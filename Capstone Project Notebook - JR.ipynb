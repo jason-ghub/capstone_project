{
 "cells": [
  {
   "cell_type": "markdown",
   "metadata": {},
   "source": [
    "<h3> Jason Rutherford </h3>\n",
    "<h3> Capstone Project </h3>\n",
    "<h1> Introduction/Business Problem </h1>"
   ]
  },
  {
   "cell_type": "markdown",
   "metadata": {},
   "source": [
    "Did you know that road crashes are the leading cause of death in the United States for people aged between 1 and 54? The United States is one of the busiest countries in the world in terms of road traffic with nearly 280 millions vehicles in operations."
   ]
  },
  {
   "cell_type": "markdown",
   "metadata": {},
   "source": [
    "They are numerous factors that determine the severity of accidents such as irresponsible driving (speeding, distracted and under the influence of alcohol/dugs), time of day/day of week and environmental conditions (weather, season, road surface and lighting conditions)."
   ]
  },
  {
   "cell_type": "markdown",
   "metadata": {},
   "source": [
    "We can gain insight and solutions from the numerous factors that effect accident severities by using data from past accidents. We will be using machine learning to build multiple models that can predict the severity of a future accident base on the similarity of their initial conditions to those of other accidents from historical data."
   ]
  },
  {
   "cell_type": "markdown",
   "metadata": {},
   "source": [
    "<h1> Data </h1>"
   ]
  },
  {
   "cell_type": "markdown",
   "metadata": {},
   "source": [
    "A comprehensive dataset of 194,673 accidents occurring from 2004 to May 2020 in the Seattle city area was obtained from the Seattle Police Department and recorded by Traffic Records and include Collisions at intersection or mid-block of a segment. The data also has 37 columns describing the details of each accident including the weather conditions, collision type, date/time of accident and location (latitude and longitude)."
   ]
  },
  {
   "cell_type": "markdown",
   "metadata": {},
   "source": [
    "An additional document was provided with the description of each column given, the data is labeled but unbalanced."
   ]
  },
  {
   "cell_type": "markdown",
   "metadata": {},
   "source": [
    "We will be using a predictive analytic apporach to determine the seveirty of an accident base on its attributes such as location, weather condition, speeding, light conditions and road condition."
   ]
  },
  {
   "cell_type": "markdown",
   "metadata": {},
   "source": [
    "<p> The attribute <b style=\"font-weight:bold;\"> SEVERITYCODE </b> (dependent variable) will be used to determine the severity of an accident. </p>"
   ]
  },
  {
   "cell_type": "markdown",
   "metadata": {},
   "source": [
    "According to the additional document, the possible values for <b style=\"font-weight: bold;\"> SEVERITYCODE </b> are:\n",
    "<ul style=\"list-style-type: square;\">\n",
    "    <li> 0 - Unknown </li>\n",
    "    <li> 1 - Prop Damage </li>\n",
    "    <li> 2 - Injury </li>\n",
    "    <li> 2b - Serious Injury </li>\n",
    "    <li> 3 - Fatality </li>\n",
    "</ul>"
   ]
  },
  {
   "cell_type": "markdown",
   "metadata": {},
   "source": [
    "<b style=\"font-weight:bold;\"> Data Understanding and Preparation </b>"
   ]
  },
  {
   "cell_type": "code",
   "execution_count": null,
   "metadata": {},
   "outputs": [],
   "source": []
  },
  {
   "cell_type": "code",
   "execution_count": null,
   "metadata": {},
   "outputs": [],
   "source": []
  },
  {
   "cell_type": "code",
   "execution_count": 1,
   "metadata": {},
   "outputs": [],
   "source": [
    "import pandas as pd\n",
    "import numpy as np\n",
    "import itertools\n",
    "import matplotlib.pyplot as plt\n",
    "from matplotlib.ticker import NullFormatter\n",
    "import matplotlib.ticker as ticker\n",
    "from sklearn import preprocessing\n",
    "%matplotlib inline"
   ]
  },
  {
   "cell_type": "code",
   "execution_count": 2,
   "metadata": {},
   "outputs": [],
   "source": [
    "df = pd.read_csv('https://s3.us.cloud-object-storage.appdomain.cloud/cf-courses-data/CognitiveClass/DP0701EN/version-2/Data-Collisions.csv', low_memory=False)"
   ]
  },
  {
   "cell_type": "markdown",
   "metadata": {},
   "source": [
    "194673 Rows x 38 Columns"
   ]
  },
  {
   "cell_type": "code",
   "execution_count": 3,
   "metadata": {},
   "outputs": [],
   "source": [
    "df = df.loc[:, df.columns.intersection(['SEVERITYCODE','COLLISIONTYPE','UNDERINFL', 'INATTENTIONIND', 'WEATHER', 'ROADCOND', 'LIGHTCOND', 'SPEEDING'])]"
   ]
  },
  {
   "cell_type": "code",
   "execution_count": 4,
   "metadata": {},
   "outputs": [
    {
     "data": {
      "text/html": [
       "<div>\n",
       "<style scoped>\n",
       "    .dataframe tbody tr th:only-of-type {\n",
       "        vertical-align: middle;\n",
       "    }\n",
       "\n",
       "    .dataframe tbody tr th {\n",
       "        vertical-align: top;\n",
       "    }\n",
       "\n",
       "    .dataframe thead th {\n",
       "        text-align: right;\n",
       "    }\n",
       "</style>\n",
       "<table border=\"1\" class=\"dataframe\">\n",
       "  <thead>\n",
       "    <tr style=\"text-align: right;\">\n",
       "      <th></th>\n",
       "      <th>SEVERITYCODE</th>\n",
       "      <th>COLLISIONTYPE</th>\n",
       "      <th>INATTENTIONIND</th>\n",
       "      <th>UNDERINFL</th>\n",
       "      <th>WEATHER</th>\n",
       "      <th>ROADCOND</th>\n",
       "      <th>LIGHTCOND</th>\n",
       "      <th>SPEEDING</th>\n",
       "    </tr>\n",
       "  </thead>\n",
       "  <tbody>\n",
       "    <tr>\n",
       "      <th>0</th>\n",
       "      <td>2</td>\n",
       "      <td>Angles</td>\n",
       "      <td>NaN</td>\n",
       "      <td>N</td>\n",
       "      <td>Overcast</td>\n",
       "      <td>Wet</td>\n",
       "      <td>Daylight</td>\n",
       "      <td>NaN</td>\n",
       "    </tr>\n",
       "    <tr>\n",
       "      <th>1</th>\n",
       "      <td>1</td>\n",
       "      <td>Sideswipe</td>\n",
       "      <td>NaN</td>\n",
       "      <td>0</td>\n",
       "      <td>Raining</td>\n",
       "      <td>Wet</td>\n",
       "      <td>Dark - Street Lights On</td>\n",
       "      <td>NaN</td>\n",
       "    </tr>\n",
       "    <tr>\n",
       "      <th>2</th>\n",
       "      <td>1</td>\n",
       "      <td>Parked Car</td>\n",
       "      <td>NaN</td>\n",
       "      <td>0</td>\n",
       "      <td>Overcast</td>\n",
       "      <td>Dry</td>\n",
       "      <td>Daylight</td>\n",
       "      <td>NaN</td>\n",
       "    </tr>\n",
       "    <tr>\n",
       "      <th>3</th>\n",
       "      <td>1</td>\n",
       "      <td>Other</td>\n",
       "      <td>NaN</td>\n",
       "      <td>N</td>\n",
       "      <td>Clear</td>\n",
       "      <td>Dry</td>\n",
       "      <td>Daylight</td>\n",
       "      <td>NaN</td>\n",
       "    </tr>\n",
       "    <tr>\n",
       "      <th>4</th>\n",
       "      <td>2</td>\n",
       "      <td>Angles</td>\n",
       "      <td>NaN</td>\n",
       "      <td>0</td>\n",
       "      <td>Raining</td>\n",
       "      <td>Wet</td>\n",
       "      <td>Daylight</td>\n",
       "      <td>NaN</td>\n",
       "    </tr>\n",
       "    <tr>\n",
       "      <th>...</th>\n",
       "      <td>...</td>\n",
       "      <td>...</td>\n",
       "      <td>...</td>\n",
       "      <td>...</td>\n",
       "      <td>...</td>\n",
       "      <td>...</td>\n",
       "      <td>...</td>\n",
       "      <td>...</td>\n",
       "    </tr>\n",
       "    <tr>\n",
       "      <th>194668</th>\n",
       "      <td>2</td>\n",
       "      <td>Head On</td>\n",
       "      <td>NaN</td>\n",
       "      <td>N</td>\n",
       "      <td>Clear</td>\n",
       "      <td>Dry</td>\n",
       "      <td>Daylight</td>\n",
       "      <td>NaN</td>\n",
       "    </tr>\n",
       "    <tr>\n",
       "      <th>194669</th>\n",
       "      <td>1</td>\n",
       "      <td>Rear Ended</td>\n",
       "      <td>Y</td>\n",
       "      <td>N</td>\n",
       "      <td>Raining</td>\n",
       "      <td>Wet</td>\n",
       "      <td>Daylight</td>\n",
       "      <td>NaN</td>\n",
       "    </tr>\n",
       "    <tr>\n",
       "      <th>194670</th>\n",
       "      <td>2</td>\n",
       "      <td>Left Turn</td>\n",
       "      <td>NaN</td>\n",
       "      <td>N</td>\n",
       "      <td>Clear</td>\n",
       "      <td>Dry</td>\n",
       "      <td>Daylight</td>\n",
       "      <td>NaN</td>\n",
       "    </tr>\n",
       "    <tr>\n",
       "      <th>194671</th>\n",
       "      <td>2</td>\n",
       "      <td>Cycles</td>\n",
       "      <td>NaN</td>\n",
       "      <td>N</td>\n",
       "      <td>Clear</td>\n",
       "      <td>Dry</td>\n",
       "      <td>Dusk</td>\n",
       "      <td>NaN</td>\n",
       "    </tr>\n",
       "    <tr>\n",
       "      <th>194672</th>\n",
       "      <td>1</td>\n",
       "      <td>Rear Ended</td>\n",
       "      <td>NaN</td>\n",
       "      <td>N</td>\n",
       "      <td>Clear</td>\n",
       "      <td>Wet</td>\n",
       "      <td>Daylight</td>\n",
       "      <td>NaN</td>\n",
       "    </tr>\n",
       "  </tbody>\n",
       "</table>\n",
       "<p>194673 rows × 8 columns</p>\n",
       "</div>"
      ],
      "text/plain": [
       "        SEVERITYCODE COLLISIONTYPE INATTENTIONIND UNDERINFL   WEATHER  \\\n",
       "0                  2        Angles            NaN         N  Overcast   \n",
       "1                  1     Sideswipe            NaN         0   Raining   \n",
       "2                  1    Parked Car            NaN         0  Overcast   \n",
       "3                  1         Other            NaN         N     Clear   \n",
       "4                  2        Angles            NaN         0   Raining   \n",
       "...              ...           ...            ...       ...       ...   \n",
       "194668             2       Head On            NaN         N     Clear   \n",
       "194669             1    Rear Ended              Y         N   Raining   \n",
       "194670             2     Left Turn            NaN         N     Clear   \n",
       "194671             2        Cycles            NaN         N     Clear   \n",
       "194672             1    Rear Ended            NaN         N     Clear   \n",
       "\n",
       "       ROADCOND                LIGHTCOND SPEEDING  \n",
       "0           Wet                 Daylight      NaN  \n",
       "1           Wet  Dark - Street Lights On      NaN  \n",
       "2           Dry                 Daylight      NaN  \n",
       "3           Dry                 Daylight      NaN  \n",
       "4           Wet                 Daylight      NaN  \n",
       "...         ...                      ...      ...  \n",
       "194668      Dry                 Daylight      NaN  \n",
       "194669      Wet                 Daylight      NaN  \n",
       "194670      Dry                 Daylight      NaN  \n",
       "194671      Dry                     Dusk      NaN  \n",
       "194672      Wet                 Daylight      NaN  \n",
       "\n",
       "[194673 rows x 8 columns]"
      ]
     },
     "execution_count": 4,
     "metadata": {},
     "output_type": "execute_result"
    }
   ],
   "source": [
    "df"
   ]
  },
  {
   "cell_type": "code",
   "execution_count": null,
   "metadata": {},
   "outputs": [],
   "source": []
  },
  {
   "cell_type": "code",
   "execution_count": 5,
   "metadata": {},
   "outputs": [
    {
     "data": {
      "image/png": "[encoded data removed]",
      "text/plain": [
       "<Figure size 360x576 with 1 Axes>"
      ]
     },
     "metadata": {
      "needs_background": "light"
     },
     "output_type": "display_data"
    }
   ],
   "source": [
    "sc_total = {'SC': ['Prop Damage','Injury'], 'Total': [df[df['SEVERITYCODE'] == 1].shape[0], df[df['SEVERITYCODE'] == 2].shape[0]]}\n",
    "sc_df = pd.DataFrame(data=sc_total)\n",
    "sc_df.plot(kind='bar', x='SC', y='Total', figsize=(5, 8))\n",
    "\n",
    "plt.xlabel('Severity Code') # add to x-label to the plot\n",
    "plt.ylabel('Total number of Accidents') # add y-label to the plot\n",
    "plt.title('Accident Severity Total') # add title to the plot\n",
    "\n",
    "plt.show()"
   ]
  },
  {
   "cell_type": "code",
   "execution_count": 6,
   "metadata": {},
   "outputs": [
    {
     "name": "stdout",
     "output_type": "stream",
     "text": [
      "In the INATTENTIONIND attribute, 84.69 % of the values are unknown.\n"
     ]
    }
   ],
   "source": [
    "inatt = df['INATTENTIONIND'].isna().sum() / df.shape[0] * 100\n",
    "inatt = round(inatt, 2)\n",
    "print ('In the INATTENTIONIND attribute,',inatt,'% of the values are unknown.')"
   ]
  },
  {
   "cell_type": "markdown",
   "metadata": {},
   "source": [
    "In the INATTENTIONIND attribute, 84.69 % of the values are unknown."
   ]
  },
  {
   "cell_type": "code",
   "execution_count": 7,
   "metadata": {},
   "outputs": [
    {
     "name": "stdout",
     "output_type": "stream",
     "text": [
      "In the SPEEDING attribute, 95.21 % of the values are unknown.\n"
     ]
    }
   ],
   "source": [
    "speeding = df['SPEEDING'].isna().sum() / df.shape[0] * 100\n",
    "speeding = round(speeding, 2)\n",
    "print ('In the SPEEDING attribute,',speeding,'% of the values are unknown.')"
   ]
  },
  {
   "cell_type": "markdown",
   "metadata": {},
   "source": [
    "In the SPEEDING attribute, 95.21 % of the values are unknown."
   ]
  },
  {
   "cell_type": "code",
   "execution_count": 8,
   "metadata": {},
   "outputs": [],
   "source": [
    "df['UNDERINFL'] = df['UNDERINFL'].replace(['0'],'N')"
   ]
  },
  {
   "cell_type": "code",
   "execution_count": 9,
   "metadata": {},
   "outputs": [],
   "source": [
    "df['UNDERINFL'] = df['UNDERINFL'].replace(['1'],'Y')"
   ]
  },
  {
   "cell_type": "code",
   "execution_count": null,
   "metadata": {},
   "outputs": [],
   "source": []
  },
  {
   "cell_type": "code",
   "execution_count": 10,
   "metadata": {},
   "outputs": [
    {
     "data": {
      "image/png": "[encoded data removed]",
      "text/plain": [
       "<Figure size 1440x720 with 1 Axes>"
      ]
     },
     "metadata": {
      "needs_background": "light"
     },
     "output_type": "display_data"
    }
   ],
   "source": [
    "overcast = df.loc[df['WEATHER'] == 'Overcast', 'SEVERITYCODE'].value_counts()\n",
    "raining = df.loc[df['WEATHER'] == 'Raining', 'SEVERITYCODE'].value_counts()\n",
    "clear = df.loc[df['WEATHER'] == 'Clear', 'SEVERITYCODE'].value_counts()\n",
    "unknown = df.loc[df['WEATHER'] == 'Unknown', 'SEVERITYCODE'].value_counts()\n",
    "other = df.loc[df['WEATHER'] == 'Other', 'SEVERITYCODE'].value_counts()\n",
    "snowing = df.loc[df['WEATHER'] == 'Snowing', 'SEVERITYCODE'].value_counts()\n",
    "fog = df.loc[df['WEATHER'] == 'Fog/Smog/Smoke', 'SEVERITYCODE'].value_counts()\n",
    "hail = df.loc[df['WEATHER'] == 'Sleet/Hail/Freezing Rain', 'SEVERITYCODE'].value_counts()\n",
    "sand = df.loc[df['WEATHER'] == 'Blowing Sand/Dirt', 'SEVERITYCODE'].value_counts()\n",
    "wind = df.loc[df['WEATHER'] == 'Severe Crosswind', 'SEVERITYCODE'].value_counts()\n",
    "cloud = df.loc[df['WEATHER'] == 'Partly Cloudy', 'SEVERITYCODE'].value_counts()\n",
    "\n",
    "weather_names = ['Overcast','Raining','Clear','Unknown','Other','Snowing','Fog/Smoke', 'Sleet/Hail', \n",
    "                   'Blowing Sand/Dirt', 'Severe Crosswing', 'Partly Cloudy']\n",
    "\n",
    "labels = weather_names\n",
    "weather_1 = [overcast[1],raining[1],clear[1],unknown[1],other[1],snowing[1],fog[1],hail[1],sand[1],wind[1],cloud[1]]\n",
    "weather_2 = [overcast[2],raining[2],clear[2],unknown[2],other[2],snowing[2],fog[2],hail[2],sand[2],wind[2],cloud[2]]\n",
    "\n",
    "x = np.arange(len(labels))  # the label locations\n",
    "width = 0.35  # the width of the bars\n",
    "\n",
    "fig, ax = plt.subplots(figsize=(20, 10))\n",
    "rects1 = ax.bar(x - width/2, weather_1, width, color='Blue',label='Prop Damage')\n",
    "rects2 = ax.bar(x + width/2, weather_2, width, color='SkyBlue',label='Injury')\n",
    "\n",
    "# Add some text for labels, title and custom x-axis tick labels, etc.\n",
    "ax.set_ylabel('Total Accidents')\n",
    "ax.set_xlabel('\\nWeather Conditions')\n",
    "ax.set_title('Total Accidents by Weather Conditions')\n",
    "ax.set_xticks(x)\n",
    "ax.set_xticklabels(labels)\n",
    "ax.legend()\n",
    "\n",
    "\n",
    "def autolabel(rects):\n",
    "    \"\"\"Attach a text label above each bar in *rects*, displaying its height.\"\"\"\n",
    "    for rect in rects:\n",
    "        height = rect.get_height()\n",
    "        ax.annotate('{}'.format(height),\n",
    "                    xy=(rect.get_x() + rect.get_width() / 2, height),\n",
    "                    xytext=(0, 3),  # 3 points vertical offset\n",
    "                    textcoords=\"offset points\",\n",
    "                    ha='center', va='bottom')\n",
    "\n",
    "\n",
    "autolabel(rects1)\n",
    "autolabel(rects2)\n",
    "\n",
    "fig.tight_layout()\n",
    "\n",
    "plt.show()"
   ]
  },
  {
   "cell_type": "code",
   "execution_count": null,
   "metadata": {},
   "outputs": [],
   "source": []
  },
  {
   "cell_type": "code",
   "execution_count": 11,
   "metadata": {},
   "outputs": [
    {
     "data": {
      "image/png": "[encoded data removed]",
      "text/plain": [
       "<Figure size 1440x720 with 1 Axes>"
      ]
     },
     "metadata": {
      "needs_background": "light"
     },
     "output_type": "display_data"
    }
   ],
   "source": [
    "angles = df.loc[df['COLLISIONTYPE'] == 'Angles', 'SEVERITYCODE'].value_counts()\n",
    "sswipe = df.loc[df['COLLISIONTYPE'] == 'Sideswipe', 'SEVERITYCODE'].value_counts()\n",
    "pcar = df.loc[df['COLLISIONTYPE'] == 'Parked Car', 'SEVERITYCODE'].value_counts()\n",
    "other1 = df.loc[df['COLLISIONTYPE'] == 'Other', 'SEVERITYCODE'].value_counts()\n",
    "cycles = df.loc[df['COLLISIONTYPE'] == 'Cycles', 'SEVERITYCODE'].value_counts()\n",
    "rended = df.loc[df['COLLISIONTYPE'] == 'Rear Ended', 'SEVERITYCODE'].value_counts()\n",
    "hon = df.loc[df['COLLISIONTYPE'] == 'Head On', 'SEVERITYCODE'].value_counts()\n",
    "lturn = df.loc[df['COLLISIONTYPE'] == 'Left Turn', 'SEVERITYCODE'].value_counts()\n",
    "pstrian = df.loc[df['COLLISIONTYPE'] == 'Pedestrian', 'SEVERITYCODE'].value_counts()\n",
    "rturn = df.loc[df['COLLISIONTYPE'] == 'Right Turn', 'SEVERITYCODE'].value_counts()\n",
    "\n",
    "collision_names = ['Angles','Sideswipe','Parked Car','Other','Cycles','Rear Ended', 'Head On', \n",
    "                   'Left Turn', 'Pedestrian', 'Right Turn']\n",
    "\n",
    "labels = collision_names\n",
    "collision_1 = [angles[1],sswipe[1],pcar[1],other1[1],cycles[1],rended[1],hon[1],lturn[1],pstrian[1],rturn[1]]\n",
    "collision_2 = [angles[2],sswipe[2],pcar[2],other1[2],cycles[2],rended[2],hon[2],lturn[2],pstrian[2],rturn[2]]\n",
    "\n",
    "x = np.arange(len(labels))  # the label locations\n",
    "width = 0.35  # the width of the bars\n",
    "\n",
    "fig, ax = plt.subplots(figsize=(20, 10))\n",
    "rects1 = ax.bar(x - width/2, collision_1, width, color='#DC143C',label='Prop Damage')\n",
    "rects2 = ax.bar(x + width/2, collision_2, width, color='#FA8072',label='Injury')\n",
    "\n",
    "# Add some text for labels, title and custom x-axis tick labels, etc.\n",
    "ax.set_ylabel('Total Accidents')\n",
    "ax.set_xlabel('\\nCollision Types')\n",
    "ax.set_title('Total Accidents by Collision Types')\n",
    "ax.set_xticks(x)\n",
    "ax.set_xticklabels(labels)\n",
    "ax.legend()\n",
    "\n",
    "\n",
    "def autolabel(rects):\n",
    "    \"\"\"Attach a text label above each bar in *rects*, displaying its height.\"\"\"\n",
    "    for rect in rects:\n",
    "        height = rect.get_height()\n",
    "        ax.annotate('{}'.format(height),\n",
    "                    xy=(rect.get_x() + rect.get_width() / 2, height),\n",
    "                    xytext=(0, 3),  # 3 points vertical offset\n",
    "                    textcoords=\"offset points\",\n",
    "                    ha='center', va='bottom')\n",
    "\n",
    "\n",
    "autolabel(rects1)\n",
    "autolabel(rects2)\n",
    "\n",
    "fig.tight_layout()\n",
    "\n",
    "plt.show()"
   ]
  },
  {
   "cell_type": "code",
   "execution_count": null,
   "metadata": {},
   "outputs": [],
   "source": []
  },
  {
   "cell_type": "code",
   "execution_count": 12,
   "metadata": {},
   "outputs": [
    {
     "data": {
      "image/png": "[encoded data removed]",
      "text/plain": [
       "<Figure size 720x720 with 1 Axes>"
      ]
     },
     "metadata": {
      "needs_background": "light"
     },
     "output_type": "display_data"
    }
   ],
   "source": [
    "no = df.loc[df['UNDERINFL'] == 'N', 'SEVERITYCODE'].value_counts()\n",
    "yes = df.loc[df['UNDERINFL'] == 'Y', 'SEVERITYCODE'].value_counts()\n",
    "\n",
    "underinfl_names = ['Yes','No']\n",
    "\n",
    "labels = underinfl_names\n",
    "underinfl_1 = [yes[1],no[1]]\n",
    "underinfl_2 = [yes[2],no[2]]\n",
    "\n",
    "x = np.arange(len(labels))  # the label locations\n",
    "width = 0.35  # the width of the bars\n",
    "\n",
    "fig, ax = plt.subplots(figsize=(10, 10))\n",
    "rects1 = ax.bar(x - width/2, underinfl_1, width, color='#3CB371',label='Prop Damage')\n",
    "rects2 = ax.bar(x + width/2, underinfl_2, width, color='#00FF7F',label='Injury')\n",
    "\n",
    "# Add some text for labels, title and custom x-axis tick labels, etc.\n",
    "ax.set_ylabel('Total Accidents')\n",
    "ax.set_xlabel('Under the Influence')\n",
    "ax.set_title('Total Accidents\\nUnder the Influence')\n",
    "ax.set_xticks(x)\n",
    "ax.set_xticklabels(labels)\n",
    "ax.legend()\n",
    "\n",
    "\n",
    "def autolabel(rects):\n",
    "    \"\"\"Attach a text label above each bar in *rects*, displaying its height.\"\"\"\n",
    "    for rect in rects:\n",
    "        height = rect.get_height()\n",
    "        ax.annotate('{}'.format(height),\n",
    "                    xy=(rect.get_x() + rect.get_width() / 2, height),\n",
    "                    xytext=(0, 3),  # 3 points vertical offset\n",
    "                    textcoords=\"offset points\",\n",
    "                    ha='center', va='bottom')\n",
    "\n",
    "\n",
    "autolabel(rects1)\n",
    "autolabel(rects2)\n",
    "\n",
    "fig.tight_layout()\n",
    "\n",
    "plt.show()"
   ]
  },
  {
   "cell_type": "code",
   "execution_count": null,
   "metadata": {},
   "outputs": [],
   "source": []
  },
  {
   "cell_type": "code",
   "execution_count": 13,
   "metadata": {},
   "outputs": [
    {
     "data": {
      "image/png": "[encoded data removed]",
      "text/plain": [
       "<Figure size 1440x720 with 1 Axes>"
      ]
     },
     "metadata": {
      "needs_background": "light"
     },
     "output_type": "display_data"
    }
   ],
   "source": [
    "wet = df.loc[df['ROADCOND'] == 'Wet', 'SEVERITYCODE'].value_counts()\n",
    "dry = df.loc[df['ROADCOND'] == 'Dry', 'SEVERITYCODE'].value_counts()\n",
    "unknown2 = df.loc[df['ROADCOND'] == 'Unknown', 'SEVERITYCODE'].value_counts()\n",
    "snow = df.loc[df['ROADCOND'] == 'Snow/Slush', 'SEVERITYCODE'].value_counts()\n",
    "ice = df.loc[df['ROADCOND'] == 'Ice', 'SEVERITYCODE'].value_counts()\n",
    "other2 = df.loc[df['ROADCOND'] == 'Other', 'SEVERITYCODE'].value_counts()\n",
    "sand2 = df.loc[df['ROADCOND'] == 'Sand/Mud/Dirt', 'SEVERITYCODE'].value_counts()\n",
    "water = df.loc[df['ROADCOND'] == 'Standing Water', 'SEVERITYCODE'].value_counts()\n",
    "oil = df.loc[df['ROADCOND'] == 'Oil', 'SEVERITYCODE'].value_counts()\n",
    "\n",
    "roadcond_names = ['Wet','Dry','Unknown','Snow/Slush','Ice','Other', 'Sand/Mud/Dirt', \n",
    "                   'Standing Water', 'Oil']\n",
    "\n",
    "labels = roadcond_names\n",
    "roadcond_1 = [wet[1],dry[1],unknown2[1],snow[1],ice[1],other2[1],sand2[1],water[1],oil[1]]\n",
    "roadcond_2 = [wet[2],dry[2],unknown2[2],snow[2],ice[2],other2[2],sand2[2],water[2],oil[2]]\n",
    "\n",
    "x = np.arange(len(labels))  # the label locations\n",
    "width = 0.35  # the width of the bars\n",
    "\n",
    "fig, ax = plt.subplots(figsize=(20, 10))\n",
    "rects1 = ax.bar(x - width/2, roadcond_1, width, color='#8B4513',label='Prop Damage')\n",
    "rects2 = ax.bar(x + width/2, roadcond_2, width, color='#BC8F8F',label='Injury')\n",
    "\n",
    "# Add some text for labels, title and custom x-axis tick labels, etc.\n",
    "ax.set_ylabel('Total Accidents')\n",
    "ax.set_xlabel('\\nRoad Conditions')\n",
    "ax.set_title('Total Accidents by Road Conditions')\n",
    "ax.set_xticks(x)\n",
    "ax.set_xticklabels(labels)\n",
    "ax.legend()\n",
    "\n",
    "\n",
    "def autolabel(rects):\n",
    "    \"\"\"Attach a text label above each bar in *rects*, displaying its height.\"\"\"\n",
    "    for rect in rects:\n",
    "        height = rect.get_height()\n",
    "        ax.annotate('{}'.format(height),\n",
    "                    xy=(rect.get_x() + rect.get_width() / 2, height),\n",
    "                    xytext=(0, 3),  # 3 points vertical offset\n",
    "                    textcoords=\"offset points\",\n",
    "                    ha='center', va='bottom')\n",
    "\n",
    "\n",
    "autolabel(rects1)\n",
    "autolabel(rects2)\n",
    "\n",
    "fig.tight_layout()\n",
    "\n",
    "plt.show()"
   ]
  },
  {
   "cell_type": "code",
   "execution_count": null,
   "metadata": {},
   "outputs": [],
   "source": []
  },
  {
   "cell_type": "code",
   "execution_count": 14,
   "metadata": {},
   "outputs": [
    {
     "data": {
      "image/png": "[encoded data removed]",
      "text/plain": [
       "<Figure size 1440x720 with 1 Axes>"
      ]
     },
     "metadata": {
      "needs_background": "light"
     },
     "output_type": "display_data"
    }
   ],
   "source": [
    "day = df.loc[df['LIGHTCOND'] == 'Daylight', 'SEVERITYCODE'].value_counts()\n",
    "darkslon = df.loc[df['LIGHTCOND'] == 'Dark - Street Lights On', 'SEVERITYCODE'].value_counts()\n",
    "darknsl = df.loc[df['LIGHTCOND'] == 'Dark - No Street Lights', 'SEVERITYCODE'].value_counts()\n",
    "unknown3 = df.loc[df['LIGHTCOND'] == 'Unknown', 'SEVERITYCODE'].value_counts()\n",
    "dusk = df.loc[df['LIGHTCOND'] == 'Dusk', 'SEVERITYCODE'].value_counts()\n",
    "dawn = df.loc[df['LIGHTCOND'] == 'Dawn', 'SEVERITYCODE'].value_counts()\n",
    "darksloff = df.loc[df['LIGHTCOND'] == 'Dark - Street Lights Off', 'SEVERITYCODE'].value_counts()\n",
    "other3 = df.loc[df['LIGHTCOND'] == 'Other', 'SEVERITYCODE'].value_counts()\n",
    "darkul = df.loc[df['LIGHTCOND'] == 'Dark - Unknown Lighting', 'SEVERITYCODE'].value_counts()\n",
    "\n",
    "lightcond_names = ['Daylight','Dark - Street Lights On','Dark - No Street Lights','Unknown','Dusk','Dawn', 'Dark - Street Lights Off', \n",
    "                   'Other', 'Dark - Unknown Lighting']\n",
    "\n",
    "labels = lightcond_names\n",
    "lightcond_1 = [day[1],darkslon[1],darknsl[1],unknown3[1],dusk[1],dawn[1],darksloff[1],other3[1],darkul[1]]\n",
    "lightcond_2 = [day[2],darkslon[2],darknsl[2],unknown3[2],dusk[2],dawn[2],darksloff[2],other3[2],darkul[2]]\n",
    "\n",
    "x = np.arange(len(labels))  # the label locations\n",
    "width = 0.35  # the width of the bars\n",
    "\n",
    "fig, ax = plt.subplots(figsize=(20, 10))\n",
    "rects1 = ax.bar(x - width/2, lightcond_1, width, color='#FFE4E1',label='Prop Damage')\n",
    "rects2 = ax.bar(x + width/2, lightcond_2, width, color='#FFF0F5',label='Injury')\n",
    "\n",
    "# Add some text for labels, title and custom x-axis tick labels, etc.\n",
    "ax.set_ylabel('Total Accidents')\n",
    "ax.set_xlabel('\\nLight Conditions')\n",
    "ax.set_title('Total Accidents by Light Conditions')\n",
    "ax.set_xticks(x)\n",
    "ax.set_xticklabels(labels)\n",
    "ax.legend()\n",
    "\n",
    "\n",
    "def autolabel(rects):\n",
    "    \"\"\"Attach a text label above each bar in *rects*, displaying its height.\"\"\"\n",
    "    for rect in rects:\n",
    "        height = rect.get_height()\n",
    "        ax.annotate('{}'.format(height),\n",
    "                    xy=(rect.get_x() + rect.get_width() / 2, height),\n",
    "                    xytext=(0, 3),  # 3 points vertical offset\n",
    "                    textcoords=\"offset points\",\n",
    "                    ha='center', va='bottom')\n",
    "\n",
    "\n",
    "autolabel(rects1)\n",
    "autolabel(rects2)\n",
    "\n",
    "fig.tight_layout()\n",
    "\n",
    "plt.show()"
   ]
  },
  {
   "cell_type": "code",
   "execution_count": 15,
   "metadata": {},
   "outputs": [],
   "source": [
    "df = df.dropna()"
   ]
  },
  {
   "cell_type": "code",
   "execution_count": 16,
   "metadata": {},
   "outputs": [],
   "source": [
    "df = df.drop(['INATTENTIONIND', 'SPEEDING'], axis=1)"
   ]
  },
  {
   "cell_type": "code",
   "execution_count": 17,
   "metadata": {},
   "outputs": [
    {
     "data": {
      "image/png": "[encoded data removed]",
      "text/plain": [
       "<Figure size 360x576 with 1 Axes>"
      ]
     },
     "metadata": {
      "needs_background": "light"
     },
     "output_type": "display_data"
    },
    {
     "data": {
      "image/png": "[encoded data removed]",
      "text/plain": [
       "<Figure size 1440x720 with 1 Axes>"
      ]
     },
     "metadata": {
      "needs_background": "light"
     },
     "output_type": "display_data"
    },
    {
     "data": {
      "image/png": "[encoded data removed]",
      "text/plain": [
       "<Figure size 1440x720 with 1 Axes>"
      ]
     },
     "metadata": {
      "needs_background": "light"
     },
     "output_type": "display_data"
    },
    {
     "data": {
      "image/png": "[encoded data removed]",
      "text/plain": [
       "<Figure size 720x720 with 1 Axes>"
      ]
     },
     "metadata": {
      "needs_background": "light"
     },
     "output_type": "display_data"
    },
    {
     "data": {
      "image/png": "[encoded data removed]",
      "text/plain": [
       "<Figure size 1440x720 with 1 Axes>"
      ]
     },
     "metadata": {
      "needs_background": "light"
     },
     "output_type": "display_data"
    },
    {
     "data": {
      "image/png": "[encoded data removed]",
      "text/plain": [
       "<Figure size 1440x720 with 1 Axes>"
      ]
     },
     "metadata": {
      "needs_background": "light"
     },
     "output_type": "display_data"
    }
   ],
   "source": [
    "sc_total = {'SC': ['Prop Damage','Injury'], 'Total': [df[df['SEVERITYCODE'] == 1].shape[0], df[df['SEVERITYCODE'] == 2].shape[0]]}\n",
    "sc_df = pd.DataFrame(data=sc_total)\n",
    "sc_df.plot(kind='bar', x='SC', y='Total', figsize=(5, 8))\n",
    "\n",
    "plt.xlabel('Severity Code') # add to x-label to the plot\n",
    "plt.ylabel('Total number of Accidents') # add y-label to the plot\n",
    "plt.title('Accident Severity Total') # add title to the plot\n",
    "\n",
    "plt.show()\n",
    "\n",
    "##########################\n",
    "\n",
    "overcast = df.loc[df['WEATHER'] == 'Overcast', 'SEVERITYCODE'].value_counts()\n",
    "raining = df.loc[df['WEATHER'] == 'Raining', 'SEVERITYCODE'].value_counts()\n",
    "clear = df.loc[df['WEATHER'] == 'Clear', 'SEVERITYCODE'].value_counts()\n",
    "unknown = df.loc[df['WEATHER'] == 'Unknown', 'SEVERITYCODE'].value_counts()\n",
    "other = df.loc[df['WEATHER'] == 'Other', 'SEVERITYCODE'].value_counts()\n",
    "snowing = df.loc[df['WEATHER'] == 'Snowing', 'SEVERITYCODE'].value_counts()\n",
    "fog = df.loc[df['WEATHER'] == 'Fog/Smog/Smoke', 'SEVERITYCODE'].value_counts()\n",
    "\n",
    "weather_names = ['Overcast','Raining','Clear','Unknown','Other','Snowing','Fog/Smoke']\n",
    "\n",
    "labels = weather_names\n",
    "weather_1 = [overcast[1],raining[1],clear[1],unknown[1],other[1],snowing[1],fog[1]]\n",
    "weather_2 = [overcast[2],raining[2],clear[2],unknown[2],other[2],snowing[2],fog[2]]\n",
    "\n",
    "x = np.arange(len(labels))  # the label locations\n",
    "width = 0.35  # the width of the bars\n",
    "\n",
    "fig, ax = plt.subplots(figsize=(20, 10))\n",
    "rects1 = ax.bar(x - width/2, weather_1, width, color='Blue',label='Prop Damage')\n",
    "rects2 = ax.bar(x + width/2, weather_2, width, color='SkyBlue',label='Injury')\n",
    "\n",
    "# Add some text for labels, title and custom x-axis tick labels, etc.\n",
    "ax.set_ylabel('Total Accidents')\n",
    "ax.set_xlabel('\\nWeather Conditions')\n",
    "ax.set_title('Total Accidents by Weather Conditions')\n",
    "ax.set_xticks(x)\n",
    "ax.set_xticklabels(labels)\n",
    "ax.legend()\n",
    "\n",
    "\n",
    "def autolabel(rects):\n",
    "    \"\"\"Attach a text label above each bar in *rects*, displaying its height.\"\"\"\n",
    "    for rect in rects:\n",
    "        height = rect.get_height()\n",
    "        ax.annotate('{}'.format(height),\n",
    "                    xy=(rect.get_x() + rect.get_width() / 2, height),\n",
    "                    xytext=(0, 3),  # 3 points vertical offset\n",
    "                    textcoords=\"offset points\",\n",
    "                    ha='center', va='bottom')\n",
    "\n",
    "\n",
    "autolabel(rects1)\n",
    "autolabel(rects2)\n",
    "\n",
    "fig.tight_layout()\n",
    "\n",
    "plt.show()\n",
    "\n",
    "################\n",
    "\n",
    "angles = df.loc[df['COLLISIONTYPE'] == 'Angles', 'SEVERITYCODE'].value_counts()\n",
    "sswipe = df.loc[df['COLLISIONTYPE'] == 'Sideswipe', 'SEVERITYCODE'].value_counts()\n",
    "pcar = df.loc[df['COLLISIONTYPE'] == 'Parked Car', 'SEVERITYCODE'].value_counts()\n",
    "other1 = df.loc[df['COLLISIONTYPE'] == 'Other', 'SEVERITYCODE'].value_counts()\n",
    "cycles = df.loc[df['COLLISIONTYPE'] == 'Cycles', 'SEVERITYCODE'].value_counts()\n",
    "rended = df.loc[df['COLLISIONTYPE'] == 'Rear Ended', 'SEVERITYCODE'].value_counts()\n",
    "hon = df.loc[df['COLLISIONTYPE'] == 'Head On', 'SEVERITYCODE'].value_counts()\n",
    "lturn = df.loc[df['COLLISIONTYPE'] == 'Left Turn', 'SEVERITYCODE'].value_counts()\n",
    "\n",
    "collision_names = ['Angles','Sideswipe','Parked Car','Other','Cycles','Rear Ended', 'Head On', \n",
    "                   'Left Turn']\n",
    "\n",
    "labels = collision_names\n",
    "collision_1 = [angles[1],sswipe[1],pcar[1],other1[1],cycles[1],rended[1],hon[1],lturn[1]]\n",
    "collision_2 = [angles[2],sswipe[2],pcar[2],other1[2],cycles[2],rended[2],hon[2],lturn[2]]\n",
    "\n",
    "x = np.arange(len(labels))  # the label locations\n",
    "width = 0.35  # the width of the bars\n",
    "\n",
    "fig, ax = plt.subplots(figsize=(20, 10))\n",
    "rects1 = ax.bar(x - width/2, collision_1, width, color='#DC143C',label='Prop Damage')\n",
    "rects2 = ax.bar(x + width/2, collision_2, width, color='#FA8072',label='Injury')\n",
    "\n",
    "# Add some text for labels, title and custom x-axis tick labels, etc.\n",
    "ax.set_ylabel('Total Accidents')\n",
    "ax.set_xlabel('\\nCollision Types')\n",
    "ax.set_title('Total Accidents by Collision Types')\n",
    "ax.set_xticks(x)\n",
    "ax.set_xticklabels(labels)\n",
    "ax.legend()\n",
    "\n",
    "\n",
    "def autolabel(rects):\n",
    "    \"\"\"Attach a text label above each bar in *rects*, displaying its height.\"\"\"\n",
    "    for rect in rects:\n",
    "        height = rect.get_height()\n",
    "        ax.annotate('{}'.format(height),\n",
    "                    xy=(rect.get_x() + rect.get_width() / 2, height),\n",
    "                    xytext=(0, 3),  # 3 points vertical offset\n",
    "                    textcoords=\"offset points\",\n",
    "                    ha='center', va='bottom')\n",
    "\n",
    "\n",
    "autolabel(rects1)\n",
    "autolabel(rects2)\n",
    "\n",
    "fig.tight_layout()\n",
    "\n",
    "plt.show()\n",
    "\n",
    "##################\n",
    "\n",
    "no = df.loc[df['UNDERINFL'] == 'N', 'SEVERITYCODE'].value_counts()\n",
    "yes = df.loc[df['UNDERINFL'] == 'Y', 'SEVERITYCODE'].value_counts()\n",
    "\n",
    "underinfl_names = ['Yes','No']\n",
    "\n",
    "labels = underinfl_names\n",
    "underinfl_1 = [yes[1],no[1]]\n",
    "underinfl_2 = [yes[2],no[2]]\n",
    "\n",
    "x = np.arange(len(labels))  # the label locations\n",
    "width = 0.35  # the width of the bars\n",
    "\n",
    "fig, ax = plt.subplots(figsize=(10, 10))\n",
    "rects1 = ax.bar(x - width/2, underinfl_1, width, color='#3CB371',label='Prop Damage')\n",
    "rects2 = ax.bar(x + width/2, underinfl_2, width, color='#00FF7F',label='Injury')\n",
    "\n",
    "# Add some text for labels, title and custom x-axis tick labels, etc.\n",
    "ax.set_ylabel('Total Accidents')\n",
    "ax.set_xlabel('Under the Influence')\n",
    "ax.set_title('Total Accidents\\nUnder the Influence')\n",
    "ax.set_xticks(x)\n",
    "ax.set_xticklabels(labels)\n",
    "ax.legend()\n",
    "\n",
    "\n",
    "def autolabel(rects):\n",
    "    \"\"\"Attach a text label above each bar in *rects*, displaying its height.\"\"\"\n",
    "    for rect in rects:\n",
    "        height = rect.get_height()\n",
    "        ax.annotate('{}'.format(height),\n",
    "                    xy=(rect.get_x() + rect.get_width() / 2, height),\n",
    "                    xytext=(0, 3),  # 3 points vertical offset\n",
    "                    textcoords=\"offset points\",\n",
    "                    ha='center', va='bottom')\n",
    "\n",
    "\n",
    "autolabel(rects1)\n",
    "autolabel(rects2)\n",
    "\n",
    "fig.tight_layout()\n",
    "\n",
    "plt.show()\n",
    "\n",
    "##################\n",
    "\n",
    "wet = df.loc[df['ROADCOND'] == 'Wet', 'SEVERITYCODE'].value_counts()\n",
    "dry = df.loc[df['ROADCOND'] == 'Dry', 'SEVERITYCODE'].value_counts()\n",
    "unknown2 = df.loc[df['ROADCOND'] == 'Unknown', 'SEVERITYCODE'].value_counts()\n",
    "snow = df.loc[df['ROADCOND'] == 'Snow/Slush', 'SEVERITYCODE'].value_counts()\n",
    "ice = df.loc[df['ROADCOND'] == 'Ice', 'SEVERITYCODE'].value_counts()\n",
    "\n",
    "roadcond_names = ['Wet','Dry','Unknown','Snow/Slush','Ice']\n",
    "\n",
    "labels = roadcond_names\n",
    "roadcond_1 = [wet[1],dry[1],unknown2[1],snow[1],ice[1]]\n",
    "roadcond_2 = [wet[2],dry[2],unknown2[2],snow[2],ice[2]]\n",
    "\n",
    "x = np.arange(len(labels))  # the label locations\n",
    "width = 0.35  # the width of the bars\n",
    "\n",
    "fig, ax = plt.subplots(figsize=(20, 10))\n",
    "rects1 = ax.bar(x - width/2, roadcond_1, width, color='#8B4513',label='Prop Damage')\n",
    "rects2 = ax.bar(x + width/2, roadcond_2, width, color='#BC8F8F',label='Injury')\n",
    "\n",
    "# Add some text for labels, title and custom x-axis tick labels, etc.\n",
    "ax.set_ylabel('Total Accidents')\n",
    "ax.set_xlabel('\\nRoad Conditions')\n",
    "ax.set_title('Total Accidents by Road Conditions')\n",
    "ax.set_xticks(x)\n",
    "ax.set_xticklabels(labels)\n",
    "ax.legend()\n",
    "\n",
    "\n",
    "def autolabel(rects):\n",
    "    \"\"\"Attach a text label above each bar in *rects*, displaying its height.\"\"\"\n",
    "    for rect in rects:\n",
    "        height = rect.get_height()\n",
    "        ax.annotate('{}'.format(height),\n",
    "                    xy=(rect.get_x() + rect.get_width() / 2, height),\n",
    "                    xytext=(0, 3),  # 3 points vertical offset\n",
    "                    textcoords=\"offset points\",\n",
    "                    ha='center', va='bottom')\n",
    "\n",
    "\n",
    "autolabel(rects1)\n",
    "autolabel(rects2)\n",
    "\n",
    "fig.tight_layout()\n",
    "\n",
    "plt.show()\n",
    "\n",
    "#################\n",
    "\n",
    "day = df.loc[df['LIGHTCOND'] == 'Daylight', 'SEVERITYCODE'].value_counts()\n",
    "darkslon = df.loc[df['LIGHTCOND'] == 'Dark - Street Lights On', 'SEVERITYCODE'].value_counts()\n",
    "darknsl = df.loc[df['LIGHTCOND'] == 'Dark - No Street Lights', 'SEVERITYCODE'].value_counts()\n",
    "dusk = df.loc[df['LIGHTCOND'] == 'Dusk', 'SEVERITYCODE'].value_counts()\n",
    "dawn = df.loc[df['LIGHTCOND'] == 'Dawn', 'SEVERITYCODE'].value_counts()\n",
    "other3 = df.loc[df['LIGHTCOND'] == 'Other', 'SEVERITYCODE'].value_counts()\n",
    "\n",
    "lightcond_names = ['Daylight','Dark - Street Lights On','Dark - No Street Lights','Dusk','Dawn', \n",
    "                   'Other']\n",
    "labels = lightcond_names\n",
    "lightcond_1 = [day[1],darkslon[1],darknsl[1],dusk[1],dawn[1],other3[1]]\n",
    "lightcond_2 = [day[2],darkslon[2],darknsl[2],dusk[2],dawn[2],other3[2]]\n",
    "\n",
    "x = np.arange(len(labels))  # the label locations\n",
    "width = 0.35  # the width of the bars\n",
    "\n",
    "fig, ax = plt.subplots(figsize=(20, 10))\n",
    "rects1 = ax.bar(x - width/2, lightcond_1, width, color='#FFE4E1',label='Prop Damage')\n",
    "rects2 = ax.bar(x + width/2, lightcond_2, width, color='#FFF0F5',label='Injury')\n",
    "\n",
    "# Add some text for labels, title and custom x-axis tick labels, etc.\n",
    "ax.set_ylabel('Total Accidents')\n",
    "ax.set_xlabel('\\nLight Conditions')\n",
    "ax.set_title('Total Accidents by Light Conditions')\n",
    "ax.set_xticks(x)\n",
    "ax.set_xticklabels(labels)\n",
    "ax.legend()\n",
    "\n",
    "\n",
    "def autolabel(rects):\n",
    "    \"\"\"Attach a text label above each bar in *rects*, displaying its height.\"\"\"\n",
    "    for rect in rects:\n",
    "        height = rect.get_height()\n",
    "        ax.annotate('{}'.format(height),\n",
    "                    xy=(rect.get_x() + rect.get_width() / 2, height),\n",
    "                    xytext=(0, 3),  # 3 points vertical offset\n",
    "                    textcoords=\"offset points\",\n",
    "                    ha='center', va='bottom')\n",
    "\n",
    "\n",
    "autolabel(rects1)\n",
    "autolabel(rects2)\n",
    "\n",
    "fig.tight_layout()\n",
    "\n",
    "plt.show()"
   ]
  },
  {
   "cell_type": "code",
   "execution_count": null,
   "metadata": {},
   "outputs": [],
   "source": []
  },
  {
   "cell_type": "code",
   "execution_count": 18,
   "metadata": {},
   "outputs": [
    {
     "data": {
      "text/plain": [
       "1    410\n",
       "2    285\n",
       "Name: SEVERITYCODE, dtype: int64"
      ]
     },
     "execution_count": 18,
     "metadata": {},
     "output_type": "execute_result"
    }
   ],
   "source": [
    "df['SEVERITYCODE'].value_counts()"
   ]
  },
  {
   "cell_type": "code",
   "execution_count": 19,
   "metadata": {},
   "outputs": [],
   "source": [
    "from sklearn.utils import resample\n",
    "df_maj = df[df['SEVERITYCODE'] == 1]\n",
    "df_min = df[df['SEVERITYCODE'] == 2]\n",
    "df_min_ds = resample(df_maj, replace=False, n_samples=285, random_state=123)\n",
    "df_tr = pd.concat([df_min_ds, df_min])"
   ]
  },
  {
   "cell_type": "code",
   "execution_count": 20,
   "metadata": {},
   "outputs": [
    {
     "data": {
      "text/plain": [
       "2    285\n",
       "1    285\n",
       "Name: SEVERITYCODE, dtype: int64"
      ]
     },
     "execution_count": 20,
     "metadata": {},
     "output_type": "execute_result"
    }
   ],
   "source": [
    "df_tr['SEVERITYCODE'].value_counts()"
   ]
  },
  {
   "cell_type": "code",
   "execution_count": 21,
   "metadata": {},
   "outputs": [
    {
     "data": {
      "image/png": "[encoded data removed]",
      "text/plain": [
       "<Figure size 720x720 with 1 Axes>"
      ]
     },
     "metadata": {
      "needs_background": "light"
     },
     "output_type": "display_data"
    }
   ],
   "source": [
    "sc_total = {'SC': ['Prop Damage','Injury'], 'Total': [df_tr[df_tr['SEVERITYCODE'] == 1].shape[0], df_tr[df_tr['SEVERITYCODE'] == 2].shape[0]]}\n",
    "sc_df = pd.DataFrame(data=sc_total)\n",
    "sc_df.plot(kind='bar', width=0.20,x='SC', y='Total', figsize=(10, 10))\n",
    "\n",
    "plt.xlabel('Severity Code') # add to x-label to the plot\n",
    "plt.ylabel('Total number of Accidents') # add y-label to the plot\n",
    "plt.title('Accident Severity Total') # add title to the plot\n",
    "\n",
    "plt.show()"
   ]
  },
  {
   "cell_type": "code",
   "execution_count": 22,
   "metadata": {},
   "outputs": [
    {
     "data": {
      "text/html": [
       "<div>\n",
       "<style scoped>\n",
       "    .dataframe tbody tr th:only-of-type {\n",
       "        vertical-align: middle;\n",
       "    }\n",
       "\n",
       "    .dataframe tbody tr th {\n",
       "        vertical-align: top;\n",
       "    }\n",
       "\n",
       "    .dataframe thead th {\n",
       "        text-align: right;\n",
       "    }\n",
       "</style>\n",
       "<table border=\"1\" class=\"dataframe\">\n",
       "  <thead>\n",
       "    <tr style=\"text-align: right;\">\n",
       "      <th></th>\n",
       "      <th>SEVERITYCODE</th>\n",
       "      <th>COLLISIONTYPE</th>\n",
       "      <th>UNDERINFL</th>\n",
       "      <th>WEATHER</th>\n",
       "      <th>ROADCOND</th>\n",
       "      <th>LIGHTCOND</th>\n",
       "    </tr>\n",
       "  </thead>\n",
       "  <tbody>\n",
       "    <tr>\n",
       "      <th>11657</th>\n",
       "      <td>1</td>\n",
       "      <td>Parked Car</td>\n",
       "      <td>N</td>\n",
       "      <td>Clear</td>\n",
       "      <td>Dry</td>\n",
       "      <td>Daylight</td>\n",
       "    </tr>\n",
       "    <tr>\n",
       "      <th>20012</th>\n",
       "      <td>1</td>\n",
       "      <td>Sideswipe</td>\n",
       "      <td>N</td>\n",
       "      <td>Clear</td>\n",
       "      <td>Dry</td>\n",
       "      <td>Daylight</td>\n",
       "    </tr>\n",
       "    <tr>\n",
       "      <th>66649</th>\n",
       "      <td>1</td>\n",
       "      <td>Other</td>\n",
       "      <td>N</td>\n",
       "      <td>Clear</td>\n",
       "      <td>Wet</td>\n",
       "      <td>Daylight</td>\n",
       "    </tr>\n",
       "    <tr>\n",
       "      <th>120972</th>\n",
       "      <td>1</td>\n",
       "      <td>Head On</td>\n",
       "      <td>N</td>\n",
       "      <td>Raining</td>\n",
       "      <td>Wet</td>\n",
       "      <td>Daylight</td>\n",
       "    </tr>\n",
       "    <tr>\n",
       "      <th>143764</th>\n",
       "      <td>1</td>\n",
       "      <td>Other</td>\n",
       "      <td>N</td>\n",
       "      <td>Clear</td>\n",
       "      <td>Dry</td>\n",
       "      <td>Dark - Street Lights On</td>\n",
       "    </tr>\n",
       "    <tr>\n",
       "      <th>...</th>\n",
       "      <td>...</td>\n",
       "      <td>...</td>\n",
       "      <td>...</td>\n",
       "      <td>...</td>\n",
       "      <td>...</td>\n",
       "      <td>...</td>\n",
       "    </tr>\n",
       "    <tr>\n",
       "      <th>190663</th>\n",
       "      <td>2</td>\n",
       "      <td>Angles</td>\n",
       "      <td>N</td>\n",
       "      <td>Clear</td>\n",
       "      <td>Dry</td>\n",
       "      <td>Daylight</td>\n",
       "    </tr>\n",
       "    <tr>\n",
       "      <th>192356</th>\n",
       "      <td>2</td>\n",
       "      <td>Parked Car</td>\n",
       "      <td>Y</td>\n",
       "      <td>Clear</td>\n",
       "      <td>Dry</td>\n",
       "      <td>Dark - Street Lights On</td>\n",
       "    </tr>\n",
       "    <tr>\n",
       "      <th>193395</th>\n",
       "      <td>2</td>\n",
       "      <td>Parked Car</td>\n",
       "      <td>N</td>\n",
       "      <td>Clear</td>\n",
       "      <td>Dry</td>\n",
       "      <td>Daylight</td>\n",
       "    </tr>\n",
       "    <tr>\n",
       "      <th>193524</th>\n",
       "      <td>2</td>\n",
       "      <td>Rear Ended</td>\n",
       "      <td>N</td>\n",
       "      <td>Clear</td>\n",
       "      <td>Dry</td>\n",
       "      <td>Daylight</td>\n",
       "    </tr>\n",
       "    <tr>\n",
       "      <th>194088</th>\n",
       "      <td>2</td>\n",
       "      <td>Rear Ended</td>\n",
       "      <td>N</td>\n",
       "      <td>Raining</td>\n",
       "      <td>Wet</td>\n",
       "      <td>Daylight</td>\n",
       "    </tr>\n",
       "  </tbody>\n",
       "</table>\n",
       "<p>570 rows × 6 columns</p>\n",
       "</div>"
      ],
      "text/plain": [
       "        SEVERITYCODE COLLISIONTYPE UNDERINFL  WEATHER ROADCOND  \\\n",
       "11657              1    Parked Car         N    Clear      Dry   \n",
       "20012              1     Sideswipe         N    Clear      Dry   \n",
       "66649              1         Other         N    Clear      Wet   \n",
       "120972             1       Head On         N  Raining      Wet   \n",
       "143764             1         Other         N    Clear      Dry   \n",
       "...              ...           ...       ...      ...      ...   \n",
       "190663             2        Angles         N    Clear      Dry   \n",
       "192356             2    Parked Car         Y    Clear      Dry   \n",
       "193395             2    Parked Car         N    Clear      Dry   \n",
       "193524             2    Rear Ended         N    Clear      Dry   \n",
       "194088             2    Rear Ended         N  Raining      Wet   \n",
       "\n",
       "                      LIGHTCOND  \n",
       "11657                  Daylight  \n",
       "20012                  Daylight  \n",
       "66649                  Daylight  \n",
       "120972                 Daylight  \n",
       "143764  Dark - Street Lights On  \n",
       "...                         ...  \n",
       "190663                 Daylight  \n",
       "192356  Dark - Street Lights On  \n",
       "193395                 Daylight  \n",
       "193524                 Daylight  \n",
       "194088                 Daylight  \n",
       "\n",
       "[570 rows x 6 columns]"
      ]
     },
     "execution_count": 22,
     "metadata": {},
     "output_type": "execute_result"
    }
   ],
   "source": [
    "df_tr"
   ]
  },
  {
   "cell_type": "code",
   "execution_count": 23,
   "metadata": {},
   "outputs": [],
   "source": [
    "df_tr['UNDERINFL'].replace(to_replace=['N','Y'], value=[0,1],inplace=True)"
   ]
  },
  {
   "cell_type": "code",
   "execution_count": 24,
   "metadata": {},
   "outputs": [],
   "source": [
    "df_tr['COLLISIONTYPE'].replace(to_replace=['Other'], value=['CT_Other'],inplace=True)"
   ]
  },
  {
   "cell_type": "code",
   "execution_count": 25,
   "metadata": {},
   "outputs": [],
   "source": [
    "df_tr['WEATHER'].replace(to_replace=['Other'], value=['W_Other'],inplace=True)"
   ]
  },
  {
   "cell_type": "code",
   "execution_count": 26,
   "metadata": {},
   "outputs": [],
   "source": [
    "df_tr['WEATHER'].replace(to_replace=['Unknown'], value=['W_Unknown'],inplace=True)"
   ]
  },
  {
   "cell_type": "code",
   "execution_count": 27,
   "metadata": {},
   "outputs": [],
   "source": [
    "df_tr['ROADCOND'].replace(to_replace=['Unknown'], value=['RC_Unknown'],inplace=True)"
   ]
  },
  {
   "cell_type": "code",
   "execution_count": 28,
   "metadata": {},
   "outputs": [],
   "source": [
    "df_tr['LIGHTCOND'].replace(to_replace=['Other'], value=['LC_Other'],inplace=True)"
   ]
  },
  {
   "cell_type": "code",
   "execution_count": 29,
   "metadata": {},
   "outputs": [],
   "source": [
    "df_tr['LIGHTCOND'].replace(to_replace=['Unknown'], value=['LC_Unknown'],inplace=True)"
   ]
  },
  {
   "cell_type": "code",
   "execution_count": 30,
   "metadata": {},
   "outputs": [
    {
     "data": {
      "text/html": [
       "<div>\n",
       "<style scoped>\n",
       "    .dataframe tbody tr th:only-of-type {\n",
       "        vertical-align: middle;\n",
       "    }\n",
       "\n",
       "    .dataframe tbody tr th {\n",
       "        vertical-align: top;\n",
       "    }\n",
       "\n",
       "    .dataframe thead th {\n",
       "        text-align: right;\n",
       "    }\n",
       "</style>\n",
       "<table border=\"1\" class=\"dataframe\">\n",
       "  <thead>\n",
       "    <tr style=\"text-align: right;\">\n",
       "      <th></th>\n",
       "      <th>SEVERITYCODE</th>\n",
       "      <th>COLLISIONTYPE</th>\n",
       "      <th>UNDERINFL</th>\n",
       "      <th>WEATHER</th>\n",
       "      <th>ROADCOND</th>\n",
       "      <th>LIGHTCOND</th>\n",
       "    </tr>\n",
       "  </thead>\n",
       "  <tbody>\n",
       "    <tr>\n",
       "      <th>11657</th>\n",
       "      <td>1</td>\n",
       "      <td>Parked Car</td>\n",
       "      <td>0</td>\n",
       "      <td>Clear</td>\n",
       "      <td>Dry</td>\n",
       "      <td>Daylight</td>\n",
       "    </tr>\n",
       "    <tr>\n",
       "      <th>20012</th>\n",
       "      <td>1</td>\n",
       "      <td>Sideswipe</td>\n",
       "      <td>0</td>\n",
       "      <td>Clear</td>\n",
       "      <td>Dry</td>\n",
       "      <td>Daylight</td>\n",
       "    </tr>\n",
       "    <tr>\n",
       "      <th>66649</th>\n",
       "      <td>1</td>\n",
       "      <td>CT_Other</td>\n",
       "      <td>0</td>\n",
       "      <td>Clear</td>\n",
       "      <td>Wet</td>\n",
       "      <td>Daylight</td>\n",
       "    </tr>\n",
       "    <tr>\n",
       "      <th>120972</th>\n",
       "      <td>1</td>\n",
       "      <td>Head On</td>\n",
       "      <td>0</td>\n",
       "      <td>Raining</td>\n",
       "      <td>Wet</td>\n",
       "      <td>Daylight</td>\n",
       "    </tr>\n",
       "    <tr>\n",
       "      <th>143764</th>\n",
       "      <td>1</td>\n",
       "      <td>CT_Other</td>\n",
       "      <td>0</td>\n",
       "      <td>Clear</td>\n",
       "      <td>Dry</td>\n",
       "      <td>Dark - Street Lights On</td>\n",
       "    </tr>\n",
       "    <tr>\n",
       "      <th>...</th>\n",
       "      <td>...</td>\n",
       "      <td>...</td>\n",
       "      <td>...</td>\n",
       "      <td>...</td>\n",
       "      <td>...</td>\n",
       "      <td>...</td>\n",
       "    </tr>\n",
       "    <tr>\n",
       "      <th>190663</th>\n",
       "      <td>2</td>\n",
       "      <td>Angles</td>\n",
       "      <td>0</td>\n",
       "      <td>Clear</td>\n",
       "      <td>Dry</td>\n",
       "      <td>Daylight</td>\n",
       "    </tr>\n",
       "    <tr>\n",
       "      <th>192356</th>\n",
       "      <td>2</td>\n",
       "      <td>Parked Car</td>\n",
       "      <td>1</td>\n",
       "      <td>Clear</td>\n",
       "      <td>Dry</td>\n",
       "      <td>Dark - Street Lights On</td>\n",
       "    </tr>\n",
       "    <tr>\n",
       "      <th>193395</th>\n",
       "      <td>2</td>\n",
       "      <td>Parked Car</td>\n",
       "      <td>0</td>\n",
       "      <td>Clear</td>\n",
       "      <td>Dry</td>\n",
       "      <td>Daylight</td>\n",
       "    </tr>\n",
       "    <tr>\n",
       "      <th>193524</th>\n",
       "      <td>2</td>\n",
       "      <td>Rear Ended</td>\n",
       "      <td>0</td>\n",
       "      <td>Clear</td>\n",
       "      <td>Dry</td>\n",
       "      <td>Daylight</td>\n",
       "    </tr>\n",
       "    <tr>\n",
       "      <th>194088</th>\n",
       "      <td>2</td>\n",
       "      <td>Rear Ended</td>\n",
       "      <td>0</td>\n",
       "      <td>Raining</td>\n",
       "      <td>Wet</td>\n",
       "      <td>Daylight</td>\n",
       "    </tr>\n",
       "  </tbody>\n",
       "</table>\n",
       "<p>570 rows × 6 columns</p>\n",
       "</div>"
      ],
      "text/plain": [
       "        SEVERITYCODE COLLISIONTYPE  UNDERINFL  WEATHER ROADCOND  \\\n",
       "11657              1    Parked Car          0    Clear      Dry   \n",
       "20012              1     Sideswipe          0    Clear      Dry   \n",
       "66649              1      CT_Other          0    Clear      Wet   \n",
       "120972             1       Head On          0  Raining      Wet   \n",
       "143764             1      CT_Other          0    Clear      Dry   \n",
       "...              ...           ...        ...      ...      ...   \n",
       "190663             2        Angles          0    Clear      Dry   \n",
       "192356             2    Parked Car          1    Clear      Dry   \n",
       "193395             2    Parked Car          0    Clear      Dry   \n",
       "193524             2    Rear Ended          0    Clear      Dry   \n",
       "194088             2    Rear Ended          0  Raining      Wet   \n",
       "\n",
       "                      LIGHTCOND  \n",
       "11657                  Daylight  \n",
       "20012                  Daylight  \n",
       "66649                  Daylight  \n",
       "120972                 Daylight  \n",
       "143764  Dark - Street Lights On  \n",
       "...                         ...  \n",
       "190663                 Daylight  \n",
       "192356  Dark - Street Lights On  \n",
       "193395                 Daylight  \n",
       "193524                 Daylight  \n",
       "194088                 Daylight  \n",
       "\n",
       "[570 rows x 6 columns]"
      ]
     },
     "execution_count": 30,
     "metadata": {},
     "output_type": "execute_result"
    }
   ],
   "source": [
    "df_tr"
   ]
  },
  {
   "cell_type": "code",
   "execution_count": 31,
   "metadata": {},
   "outputs": [
    {
     "data": {
      "text/html": [
       "<div>\n",
       "<style scoped>\n",
       "    .dataframe tbody tr th:only-of-type {\n",
       "        vertical-align: middle;\n",
       "    }\n",
       "\n",
       "    .dataframe tbody tr th {\n",
       "        vertical-align: top;\n",
       "    }\n",
       "\n",
       "    .dataframe thead th {\n",
       "        text-align: right;\n",
       "    }\n",
       "</style>\n",
       "<table border=\"1\" class=\"dataframe\">\n",
       "  <thead>\n",
       "    <tr style=\"text-align: right;\">\n",
       "      <th></th>\n",
       "      <th>SEVERITYCODE</th>\n",
       "      <th>UNDERINFL</th>\n",
       "      <th>Angles</th>\n",
       "      <th>CT_Other</th>\n",
       "      <th>Cycles</th>\n",
       "      <th>Head On</th>\n",
       "      <th>Left Turn</th>\n",
       "      <th>Parked Car</th>\n",
       "      <th>Pedestrian</th>\n",
       "      <th>Rear Ended</th>\n",
       "      <th>...</th>\n",
       "      <th>Standing Water</th>\n",
       "      <th>Wet</th>\n",
       "      <th>Dark - No Street Lights</th>\n",
       "      <th>Dark - Street Lights Off</th>\n",
       "      <th>Dark - Street Lights On</th>\n",
       "      <th>Dawn</th>\n",
       "      <th>Daylight</th>\n",
       "      <th>Dusk</th>\n",
       "      <th>LC_Other</th>\n",
       "      <th>LC_Unknown</th>\n",
       "    </tr>\n",
       "  </thead>\n",
       "  <tbody>\n",
       "    <tr>\n",
       "      <th>11657</th>\n",
       "      <td>1</td>\n",
       "      <td>0</td>\n",
       "      <td>0</td>\n",
       "      <td>0</td>\n",
       "      <td>0</td>\n",
       "      <td>0</td>\n",
       "      <td>0</td>\n",
       "      <td>1</td>\n",
       "      <td>0</td>\n",
       "      <td>0</td>\n",
       "      <td>...</td>\n",
       "      <td>0</td>\n",
       "      <td>0</td>\n",
       "      <td>0</td>\n",
       "      <td>0</td>\n",
       "      <td>0</td>\n",
       "      <td>0</td>\n",
       "      <td>1</td>\n",
       "      <td>0</td>\n",
       "      <td>0</td>\n",
       "      <td>0</td>\n",
       "    </tr>\n",
       "    <tr>\n",
       "      <th>20012</th>\n",
       "      <td>1</td>\n",
       "      <td>0</td>\n",
       "      <td>0</td>\n",
       "      <td>0</td>\n",
       "      <td>0</td>\n",
       "      <td>0</td>\n",
       "      <td>0</td>\n",
       "      <td>0</td>\n",
       "      <td>0</td>\n",
       "      <td>0</td>\n",
       "      <td>...</td>\n",
       "      <td>0</td>\n",
       "      <td>0</td>\n",
       "      <td>0</td>\n",
       "      <td>0</td>\n",
       "      <td>0</td>\n",
       "      <td>0</td>\n",
       "      <td>1</td>\n",
       "      <td>0</td>\n",
       "      <td>0</td>\n",
       "      <td>0</td>\n",
       "    </tr>\n",
       "    <tr>\n",
       "      <th>66649</th>\n",
       "      <td>1</td>\n",
       "      <td>0</td>\n",
       "      <td>0</td>\n",
       "      <td>1</td>\n",
       "      <td>0</td>\n",
       "      <td>0</td>\n",
       "      <td>0</td>\n",
       "      <td>0</td>\n",
       "      <td>0</td>\n",
       "      <td>0</td>\n",
       "      <td>...</td>\n",
       "      <td>0</td>\n",
       "      <td>1</td>\n",
       "      <td>0</td>\n",
       "      <td>0</td>\n",
       "      <td>0</td>\n",
       "      <td>0</td>\n",
       "      <td>1</td>\n",
       "      <td>0</td>\n",
       "      <td>0</td>\n",
       "      <td>0</td>\n",
       "    </tr>\n",
       "    <tr>\n",
       "      <th>120972</th>\n",
       "      <td>1</td>\n",
       "      <td>0</td>\n",
       "      <td>0</td>\n",
       "      <td>0</td>\n",
       "      <td>0</td>\n",
       "      <td>1</td>\n",
       "      <td>0</td>\n",
       "      <td>0</td>\n",
       "      <td>0</td>\n",
       "      <td>0</td>\n",
       "      <td>...</td>\n",
       "      <td>0</td>\n",
       "      <td>1</td>\n",
       "      <td>0</td>\n",
       "      <td>0</td>\n",
       "      <td>0</td>\n",
       "      <td>0</td>\n",
       "      <td>1</td>\n",
       "      <td>0</td>\n",
       "      <td>0</td>\n",
       "      <td>0</td>\n",
       "    </tr>\n",
       "    <tr>\n",
       "      <th>143764</th>\n",
       "      <td>1</td>\n",
       "      <td>0</td>\n",
       "      <td>0</td>\n",
       "      <td>1</td>\n",
       "      <td>0</td>\n",
       "      <td>0</td>\n",
       "      <td>0</td>\n",
       "      <td>0</td>\n",
       "      <td>0</td>\n",
       "      <td>0</td>\n",
       "      <td>...</td>\n",
       "      <td>0</td>\n",
       "      <td>0</td>\n",
       "      <td>0</td>\n",
       "      <td>0</td>\n",
       "      <td>1</td>\n",
       "      <td>0</td>\n",
       "      <td>0</td>\n",
       "      <td>0</td>\n",
       "      <td>0</td>\n",
       "      <td>0</td>\n",
       "    </tr>\n",
       "  </tbody>\n",
       "</table>\n",
       "<p>5 rows × 34 columns</p>\n",
       "</div>"
      ],
      "text/plain": [
       "        SEVERITYCODE  UNDERINFL  Angles  CT_Other  Cycles  Head On  Left Turn  \\\n",
       "11657              1          0       0         0       0        0          0   \n",
       "20012              1          0       0         0       0        0          0   \n",
       "66649              1          0       0         1       0        0          0   \n",
       "120972             1          0       0         0       0        1          0   \n",
       "143764             1          0       0         1       0        0          0   \n",
       "\n",
       "        Parked Car  Pedestrian  Rear Ended  ...  Standing Water  Wet  \\\n",
       "11657            1           0           0  ...               0    0   \n",
       "20012            0           0           0  ...               0    0   \n",
       "66649            0           0           0  ...               0    1   \n",
       "120972           0           0           0  ...               0    1   \n",
       "143764           0           0           0  ...               0    0   \n",
       "\n",
       "        Dark - No Street Lights  Dark - Street Lights Off  \\\n",
       "11657                         0                         0   \n",
       "20012                         0                         0   \n",
       "66649                         0                         0   \n",
       "120972                        0                         0   \n",
       "143764                        0                         0   \n",
       "\n",
       "        Dark - Street Lights On  Dawn  Daylight  Dusk  LC_Other  LC_Unknown  \n",
       "11657                         0     0         1     0         0           0  \n",
       "20012                         0     0         1     0         0           0  \n",
       "66649                         0     0         1     0         0           0  \n",
       "120972                        0     0         1     0         0           0  \n",
       "143764                        1     0         0     0         0           0  \n",
       "\n",
       "[5 rows x 34 columns]"
      ]
     },
     "execution_count": 31,
     "metadata": {},
     "output_type": "execute_result"
    }
   ],
   "source": [
    "df_test = df_tr[['SEVERITYCODE','COLLISIONTYPE','UNDERINFL','WEATHER','ROADCOND','LIGHTCOND']]\n",
    "df_test = pd.concat([df_test,pd.get_dummies(df_tr['COLLISIONTYPE'])], axis=1)\n",
    "df_test.drop(['COLLISIONTYPE'], axis = 1,inplace=True)\n",
    "df_test = pd.concat([df_test,pd.get_dummies(df_tr['WEATHER'])], axis=1)\n",
    "df_test.drop(['WEATHER'], axis = 1,inplace=True)\n",
    "df_test = pd.concat([df_test,pd.get_dummies(df_tr['ROADCOND'])], axis=1)\n",
    "df_test.drop(['ROADCOND'], axis = 1,inplace=True)\n",
    "df_test = pd.concat([df_test,pd.get_dummies(df_tr['LIGHTCOND'])], axis=1)\n",
    "df_test.drop(['LIGHTCOND'], axis = 1,inplace=True)\n",
    "df_test.head()"
   ]
  },
  {
   "cell_type": "code",
   "execution_count": 32,
   "metadata": {},
   "outputs": [],
   "source": [
    "X = df_test"
   ]
  },
  {
   "cell_type": "code",
   "execution_count": 33,
   "metadata": {},
   "outputs": [],
   "source": [
    "y = df_tr['SEVERITYCODE'].values"
   ]
  },
  {
   "cell_type": "code",
   "execution_count": 34,
   "metadata": {},
   "outputs": [
    {
     "name": "stderr",
     "output_type": "stream",
     "text": [
      "/home/jupyterlab/conda/envs/python/lib/python3.6/site-packages/sklearn/preprocessing/data.py:625: DataConversionWarning: Data with input dtype uint8, int64 were all converted to float64 by StandardScaler.\n",
      "  return self.partial_fit(X, y)\n",
      "/home/jupyterlab/conda/envs/python/lib/python3.6/site-packages/ipykernel_launcher.py:1: DataConversionWarning: Data with input dtype uint8, int64 were all converted to float64 by StandardScaler.\n",
      "  \"\"\"Entry point for launching an IPython kernel.\n"
     ]
    }
   ],
   "source": [
    "X= preprocessing.StandardScaler().fit(X).transform(X)"
   ]
  },
  {
   "cell_type": "code",
   "execution_count": 35,
   "metadata": {},
   "outputs": [
    {
     "name": "stdout",
     "output_type": "stream",
     "text": [
      "Train set: (399, 34) (399,)\n",
      "Test set: (171, 34) (171,)\n"
     ]
    }
   ],
   "source": [
    "from sklearn.model_selection import train_test_split\n",
    "X_train, X_test, y_train, y_test = train_test_split( X, y, test_size=0.3, random_state=4 )\n",
    "print ('Train set:', X_train.shape,  y_train.shape)\n",
    "print ('Test set:', X_test.shape,  y_test.shape)"
   ]
  },
  {
   "cell_type": "code",
   "execution_count": 36,
   "metadata": {},
   "outputs": [],
   "source": [
    "from sklearn.neighbors import KNeighborsClassifier"
   ]
  },
  {
   "cell_type": "code",
   "execution_count": 37,
   "metadata": {},
   "outputs": [],
   "source": [
    "k=25"
   ]
  },
  {
   "cell_type": "code",
   "execution_count": 38,
   "metadata": {},
   "outputs": [
    {
     "data": {
      "text/plain": [
       "KNeighborsClassifier(algorithm='auto', leaf_size=30, metric='minkowski',\n",
       "           metric_params=None, n_jobs=None, n_neighbors=25, p=2,\n",
       "           weights='uniform')"
      ]
     },
     "execution_count": 38,
     "metadata": {},
     "output_type": "execute_result"
    }
   ],
   "source": [
    "neighK25 = KNeighborsClassifier(n_neighbors = k).fit(X_train,y_train)\n",
    "neighK25"
   ]
  },
  {
   "cell_type": "code",
   "execution_count": 39,
   "metadata": {},
   "outputs": [
    {
     "data": {
      "text/plain": [
       "array([2, 2, 2, 2, 1])"
      ]
     },
     "execution_count": 39,
     "metadata": {},
     "output_type": "execute_result"
    }
   ],
   "source": [
    "yhat = neighK25.predict(X_test)\n",
    "yhat[0:5]"
   ]
  },
  {
   "cell_type": "code",
   "execution_count": 40,
   "metadata": {},
   "outputs": [
    {
     "name": "stdout",
     "output_type": "stream",
     "text": [
      "Train set Accuracy:  0.8596491228070176\n",
      "Test set Accuracy:  0.8011695906432749\n"
     ]
    }
   ],
   "source": [
    "from sklearn import metrics\n",
    "print(\"Train set Accuracy: \", metrics.accuracy_score(y_train, neighK25.predict(X_train)))\n",
    "print(\"Test set Accuracy: \", metrics.accuracy_score(y_test, yhat))"
   ]
  },
  {
   "cell_type": "code",
   "execution_count": 167,
   "metadata": {},
   "outputs": [
    {
     "data": {
      "text/plain": [
       "array([0.88, 0.86, 0.87, 0.85, 0.86, 0.88, 0.88, 0.82, 0.82, 0.84, 0.82,\n",
       "       0.81, 0.82, 0.82, 0.8 , 0.78, 0.81, 0.81, 0.81, 0.79, 0.78, 0.8 ,\n",
       "       0.81, 0.81, 0.8 , 0.84, 0.85, 0.87, 0.89, 0.88, 0.91, 0.89, 0.88,\n",
       "       0.92, 0.91, 0.92, 0.92, 0.91, 0.9 , 0.9 , 0.85, 0.85, 0.85, 0.85,\n",
       "       0.83, 0.82, 0.83, 0.82, 0.84, 0.84, 0.84, 0.84, 0.84, 0.85, 0.85,\n",
       "       0.85, 0.84, 0.89, 0.89, 0.89, 0.85, 0.88, 0.88, 0.88, 0.87, 0.88,\n",
       "       0.88, 0.88, 0.88, 0.88, 0.89, 0.89, 0.89, 0.87, 0.88, 0.87, 0.87,\n",
       "       0.89, 0.89, 0.89, 0.89, 0.89, 0.87, 0.86, 0.87, 0.88, 0.88, 0.88,\n",
       "       0.88, 0.87, 0.89, 0.89, 0.89, 0.87, 0.89, 0.92, 0.92, 0.92, 0.92])"
      ]
     },
     "execution_count": 167,
     "metadata": {},
     "output_type": "execute_result"
    }
   ],
   "source": [
    "Ks = 100\n",
    "mean_acc = np.zeros((Ks-1))\n",
    "std_acc = np.zeros((Ks-1))\n",
    "\n",
    "ConfustionMx = [];\n",
    "for n in range(1,Ks):\n",
    "    neigh = KNeighborsClassifier(n_neighbors = n).fit(X_train,y_train)\n",
    "    yhat=neigh.predict(X_test)\n",
    "    mean_acc[n-1] = metrics.accuracy_score(y_test, yhat)    \n",
    "    std_acc[n-1]=np.std(yhat==y_test)/np.sqrt(yhat.shape[0])\n",
    "mean_acc"
   ]
  },
  {
   "cell_type": "code",
   "execution_count": 168,
   "metadata": {},
   "outputs": [
    {
     "data": {
      "image/png": "[encoded data removed]",
      "text/plain": [
       "<Figure size 864x432 with 1 Axes>"
      ]
     },
     "metadata": {
      "needs_background": "light"
     },
     "output_type": "display_data"
    },
    {
     "name": "stdout",
     "output_type": "stream",
     "text": [
      "Best Accuracy: 0.9239766081871345 , K = 36\n"
     ]
    }
   ],
   "source": [
    "from pylab import rcParams\n",
    "rcParams['figure.figsize'] = 12, 6\n",
    "plt.plot(range(1,Ks),mean_acc,'g')\n",
    "plt.fill_between(range(1,Ks),mean_acc - 1 * std_acc,mean_acc + 1 * std_acc, alpha=0.10)\n",
    "plt.legend(('Accuracy ', '+/- 3xstd'))\n",
    "plt.ylabel('Accuracy ')\n",
    "plt.xlabel('Number of Nabors (K)')\n",
    "plt.tight_layout()\n",
    "plt.show()\n",
    "print( \"Best Accuracy:\", mean_acc.max(), \", K =\", mean_acc.argmax()+1)"
   ]
  },
  {
   "cell_type": "code",
   "execution_count": 75,
   "metadata": {},
   "outputs": [
    {
     "data": {
      "text/plain": [
       "DecisionTreeClassifier(class_weight=None, criterion='entropy', max_depth=6,\n",
       "            max_features=None, max_leaf_nodes=None,\n",
       "            min_impurity_decrease=0.0, min_impurity_split=None,\n",
       "            min_samples_leaf=1, min_samples_split=2,\n",
       "            min_weight_fraction_leaf=0.0, presort=False, random_state=None,\n",
       "            splitter='best')"
      ]
     },
     "execution_count": 75,
     "metadata": {},
     "output_type": "execute_result"
    }
   ],
   "source": [
    "from sklearn.tree import DecisionTreeClassifier\n",
    "from sklearn.model_selection import train_test_split\n",
    "X_trainset, X_testset, y_trainset, y_testset = train_test_split(X, y, test_size=0.3, random_state=3)\n",
    "Tree = DecisionTreeClassifier(criterion=\"entropy\", max_depth = 6)\n",
    "Tree"
   ]
  },
  {
   "cell_type": "code",
   "execution_count": 76,
   "metadata": {},
   "outputs": [
    {
     "data": {
      "text/plain": [
       "DecisionTreeClassifier(class_weight=None, criterion='entropy', max_depth=6,\n",
       "            max_features=None, max_leaf_nodes=None,\n",
       "            min_impurity_decrease=0.0, min_impurity_split=None,\n",
       "            min_samples_leaf=1, min_samples_split=2,\n",
       "            min_weight_fraction_leaf=0.0, presort=False, random_state=None,\n",
       "            splitter='best')"
      ]
     },
     "execution_count": 76,
     "metadata": {},
     "output_type": "execute_result"
    }
   ],
   "source": [
    "Tree.fit(X_trainset,y_trainset)"
   ]
  },
  {
   "cell_type": "code",
   "execution_count": 77,
   "metadata": {},
   "outputs": [
    {
     "name": "stdout",
     "output_type": "stream",
     "text": [
      "[1 2 2 2 2]\n",
      "[1 2 2 2 2]\n"
     ]
    }
   ],
   "source": [
    "predTree = Tree.predict(X_testset)\n",
    "print (predTree [0:5])\n",
    "print (y_testset [0:5])"
   ]
  },
  {
   "cell_type": "code",
   "execution_count": 78,
   "metadata": {},
   "outputs": [
    {
     "name": "stdout",
     "output_type": "stream",
     "text": [
      "Accuracy:  1.0\n"
     ]
    }
   ],
   "source": [
    "from sklearn import metrics\n",
    "import matplotlib.pyplot as plt\n",
    "\n",
    "print(\"Accuracy: \", metrics.accuracy_score(y_testset, predTree))"
   ]
  },
  {
   "cell_type": "code",
   "execution_count": 79,
   "metadata": {},
   "outputs": [
    {
     "name": "stdout",
     "output_type": "stream",
     "text": [
      "Collecting package metadata (current_repodata.json): done\n",
      "Solving environment: done\n",
      "\n",
      "## Package Plan ##\n",
      "\n",
      "  environment location: /home/jupyterlab/conda/envs/python\n",
      "\n",
      "  added / updated specs:\n",
      "    - pydotplus\n",
      "\n",
      "\n",
      "The following packages will be downloaded:\n",
      "\n",
      "    package                    |            build\n",
      "    ---------------------------|-----------------\n",
      "    certifi-2020.6.20          |   py36h9880bd3_2         151 KB  conda-forge\n",
      "    pydotplus-2.0.2            |     pyhd1c1de3_3          23 KB  conda-forge\n",
      "    ------------------------------------------------------------\n",
      "                                           Total:         174 KB\n",
      "\n",
      "The following NEW packages will be INSTALLED:\n",
      "\n",
      "  pydotplus          conda-forge/noarch::pydotplus-2.0.2-pyhd1c1de3_3\n",
      "\n",
      "The following packages will be UPDATED:\n",
      "\n",
      "  certifi                          2020.6.20-py36h9f0ad1d_0 --> 2020.6.20-py36h9880bd3_2\n",
      "\n",
      "\n",
      "\n",
      "Downloading and Extracting Packages\n",
      "certifi-2020.6.20    | 151 KB    | ##################################### | 100% \n",
      "pydotplus-2.0.2      | 23 KB     | ##################################### | 100% \n",
      "Preparing transaction: done\n",
      "Verifying transaction: done\n",
      "Executing transaction: done\n",
      "Collecting package metadata (current_repodata.json): done\n",
      "Solving environment: done\n",
      "\n",
      "## Package Plan ##\n",
      "\n",
      "  environment location: /home/jupyterlab/conda/envs/python\n",
      "\n",
      "  added / updated specs:\n",
      "    - python-graphviz\n",
      "\n",
      "\n",
      "The following packages will be downloaded:\n",
      "\n",
      "    package                    |            build\n",
      "    ---------------------------|-----------------\n",
      "    python-graphviz-0.14.2     |     pyh9f0ad1d_0          19 KB  conda-forge\n",
      "    ------------------------------------------------------------\n",
      "                                           Total:          19 KB\n",
      "\n",
      "The following NEW packages will be INSTALLED:\n",
      "\n",
      "  python-graphviz    conda-forge/noarch::python-graphviz-0.14.2-pyh9f0ad1d_0\n",
      "\n",
      "\n",
      "\n",
      "Downloading and Extracting Packages\n",
      "python-graphviz-0.14 | 19 KB     | ##################################### | 100% \n",
      "Preparing transaction: done\n",
      "Verifying transaction: done\n",
      "Executing transaction: done\n"
     ]
    }
   ],
   "source": [
    "!conda install -c conda-forge pydotplus -y\n",
    "!conda install -c conda-forge python-graphviz -y"
   ]
  },
  {
   "cell_type": "code",
   "execution_count": null,
   "metadata": {},
   "outputs": [],
   "source": [
    "from sklearn.externals.six import StringIO\n",
    "import pydotplus\n",
    "import matplotlib.image as mpimg\n",
    "from sklearn import tree\n",
    "%matplotlib inline \n",
    "dot_data = StringIO()\n",
    "filename = \"test.png\"\n",
    "featureNames = df_test.columns[0:34]\n",
    "targetNames = df_test['SEVERITYCODE'].unique().tolist()\n",
    "out=tree.export_graphviz(Tree,feature_names=featureNames, out_file=dot_data, class_names= np.unique(y_trainset), filled=True,  special_characters=True,rotate=False) \n",
    "graph = pydotplus.graph_from_dot_data(dot_data.getvalue())  \n",
    "graph.write_png(filename)\n",
    "img = mpimg.imread(filename)\n",
    "plt.figure(figsize=(100, 200))\n",
    "plt.imshow(img,interpolation='nearest')"
   ]
  },
  {
   "cell_type": "code",
   "execution_count": 141,
   "metadata": {},
   "outputs": [
    {
     "data": {
      "text/plain": [
       "SEVERITYCODE      int64\n",
       "COLLISIONTYPE    object\n",
       "UNDERINFL         int64\n",
       "WEATHER          object\n",
       "ROADCOND         object\n",
       "LIGHTCOND        object\n",
       "dtype: object"
      ]
     },
     "execution_count": 141,
     "metadata": {},
     "output_type": "execute_result"
    }
   ],
   "source": [
    "df_tr.dtypes"
   ]
  },
  {
   "cell_type": "code",
   "execution_count": 142,
   "metadata": {},
   "outputs": [
    {
     "name": "stderr",
     "output_type": "stream",
     "text": [
      "/home/jupyterlab/conda/envs/python/lib/python3.6/site-packages/sklearn/svm/base.py:196: FutureWarning: The default value of gamma will change from 'auto' to 'scale' in version 0.22 to account better for unscaled features. Set gamma explicitly to 'auto' or 'scale' to avoid this warning.\n",
      "  \"avoid this warning.\", FutureWarning)\n"
     ]
    },
    {
     "data": {
      "text/plain": [
       "SVC(C=1.0, cache_size=200, class_weight=None, coef0=0.0,\n",
       "  decision_function_shape='ovr', degree=3, gamma='auto_deprecated',\n",
       "  kernel='rbf', max_iter=-1, probability=False, random_state=None,\n",
       "  shrinking=True, tol=0.001, verbose=False)"
      ]
     },
     "execution_count": 142,
     "metadata": {},
     "output_type": "execute_result"
    }
   ],
   "source": [
    "from sklearn import svm\n",
    "clf = svm.SVC(kernel='rbf')\n",
    "clf.fit(X_train, y_train)"
   ]
  },
  {
   "cell_type": "code",
   "execution_count": 143,
   "metadata": {},
   "outputs": [
    {
     "data": {
      "text/plain": [
       "array([2, 1, 2, 2, 1])"
      ]
     },
     "execution_count": 143,
     "metadata": {},
     "output_type": "execute_result"
    }
   ],
   "source": [
    "yhat = clf.predict(X_test)\n",
    "yhat [0:5]"
   ]
  },
  {
   "cell_type": "code",
   "execution_count": 144,
   "metadata": {},
   "outputs": [],
   "source": [
    "from sklearn.metrics import classification_report, confusion_matrix\n",
    "import itertools"
   ]
  },
  {
   "cell_type": "code",
   "execution_count": 147,
   "metadata": {},
   "outputs": [
    {
     "name": "stdout",
     "output_type": "stream",
     "text": [
      "              precision    recall  f1-score   support\n",
      "\n",
      "           1       0.93      0.99      0.96        79\n",
      "           2       0.99      0.93      0.96        92\n",
      "\n",
      "   micro avg       0.96      0.96      0.96       171\n",
      "   macro avg       0.96      0.96      0.96       171\n",
      "weighted avg       0.96      0.96      0.96       171\n",
      "\n"
     ]
    },
    {
     "data": {
      "image/png": "[encoded data removed]",
      "text/plain": [
       "<Figure size 432x288 with 2 Axes>"
      ]
     },
     "metadata": {
      "needs_background": "light"
     },
     "output_type": "display_data"
    }
   ],
   "source": [
    "def plot_confusion_matrix(cm, classes,\n",
    "                          normalize=False,\n",
    "                          title='Confusion matrix',\n",
    "                          cmap=plt.cm.Blues):\n",
    "    if normalize:\n",
    "        cm = cm.astype('float') / cm.sum(axis=1)[:, np.newaxis]\n",
    "    plt.imshow(cm, interpolation='nearest', cmap=cmap)\n",
    "    plt.title(title)\n",
    "    plt.colorbar()\n",
    "    tick_marks = np.arange(len(classes))\n",
    "    plt.xticks(tick_marks, classes, rotation=45)\n",
    "    plt.yticks(tick_marks, classes)\n",
    "\n",
    "    fmt = '.2f' if normalize else 'd'\n",
    "    thresh = cm.max() / 2.\n",
    "    for i, j in itertools.product(range(cm.shape[0]), range(cm.shape[1])):\n",
    "        plt.text(j, i, format(cm[i, j], fmt),\n",
    "                 horizontalalignment=\"center\",\n",
    "                 color=\"white\" if cm[i, j] > thresh else \"black\")\n",
    "    plt.tight_layout()\n",
    "    plt.ylabel('True label')\n",
    "    plt.xlabel('Predicted label')\n",
    "cnf_matrix = confusion_matrix(y_test, yhat, labels=[1,2])\n",
    "np.set_printoptions(precision=2)\n",
    "\n",
    "print (classification_report(y_test, yhat))\n",
    "\n",
    "plt.figure()\n",
    "plot_confusion_matrix(cnf_matrix, classes=[1,2],normalize= False,  title='Confusion matrix')"
   ]
  },
  {
   "cell_type": "code",
   "execution_count": 148,
   "metadata": {},
   "outputs": [
    {
     "data": {
      "text/plain": [
       "0.9591204479535771"
      ]
     },
     "execution_count": 148,
     "metadata": {},
     "output_type": "execute_result"
    }
   ],
   "source": [
    "from sklearn.metrics import f1_score\n",
    "f1_score(y_test, yhat, average='weighted')"
   ]
  },
  {
   "cell_type": "code",
   "execution_count": 149,
   "metadata": {},
   "outputs": [
    {
     "data": {
      "text/plain": [
       "0.9590643274853801"
      ]
     },
     "execution_count": 149,
     "metadata": {},
     "output_type": "execute_result"
    }
   ],
   "source": [
    "from sklearn.metrics import jaccard_similarity_score\n",
    "jaccard_similarity_score(y_test, yhat)"
   ]
  },
  {
   "cell_type": "code",
   "execution_count": 153,
   "metadata": {},
   "outputs": [
    {
     "data": {
      "text/plain": [
       "array([[-1.  , -0.3 , -0.34, -0.56, -0.16, -0.14, -0.16,  2.63, -0.09,\n",
       "        -0.83, -0.04, -0.21,  0.99, -0.08, -0.42, -0.67, -0.04, -0.1 ,\n",
       "        -0.06, -0.09,  0.91, -0.1 , -0.09, -0.1 , -0.07, -0.85, -0.1 ,\n",
       "        -0.06, -0.74, -0.17,  0.85, -0.13, -0.06, -0.08],\n",
       "       [-1.  , -0.3 , -0.34, -0.56, -0.16, -0.14, -0.16, -0.38, -0.09,\n",
       "        -0.83, -0.04,  4.77,  0.99, -0.08, -0.42, -0.67, -0.04, -0.1 ,\n",
       "        -0.06, -0.09,  0.91, -0.1 , -0.09, -0.1 , -0.07, -0.85, -0.1 ,\n",
       "        -0.06, -0.74, -0.17,  0.85, -0.13, -0.06, -0.08],\n",
       "       [-1.  , -0.3 , -0.34,  1.78, -0.16, -0.14, -0.16, -0.38, -0.09,\n",
       "        -0.83, -0.04, -0.21,  0.99, -0.08, -0.42, -0.67, -0.04, -0.1 ,\n",
       "        -0.06, -0.09, -1.1 , -0.1 , -0.09, -0.1 , -0.07,  1.18, -0.1 ,\n",
       "        -0.06, -0.74, -0.17,  0.85, -0.13, -0.06, -0.08],\n",
       "       [-1.  , -0.3 , -0.34, -0.56, -0.16,  7.13, -0.16, -0.38, -0.09,\n",
       "        -0.83, -0.04, -0.21, -1.01, -0.08, -0.42,  1.49, -0.04, -0.1 ,\n",
       "        -0.06, -0.09, -1.1 , -0.1 , -0.09, -0.1 , -0.07,  1.18, -0.1 ,\n",
       "        -0.06, -0.74, -0.17,  0.85, -0.13, -0.06, -0.08],\n",
       "       [-1.  , -0.3 , -0.34,  1.78, -0.16, -0.14, -0.16, -0.38, -0.09,\n",
       "        -0.83, -0.04, -0.21,  0.99, -0.08, -0.42, -0.67, -0.04, -0.1 ,\n",
       "        -0.06, -0.09,  0.91, -0.1 , -0.09, -0.1 , -0.07, -0.85, -0.1 ,\n",
       "        -0.06,  1.36, -0.17, -1.17, -0.13, -0.06, -0.08]])"
      ]
     },
     "execution_count": 153,
     "metadata": {},
     "output_type": "execute_result"
    }
   ],
   "source": [
    "from sklearn import preprocessing\n",
    "X = preprocessing.StandardScaler().fit(X).transform(X)\n",
    "X[0:5]"
   ]
  },
  {
   "cell_type": "code",
   "execution_count": 155,
   "metadata": {},
   "outputs": [
    {
     "name": "stdout",
     "output_type": "stream",
     "text": [
      "Train set: (399, 34) (399,)\n",
      "Test set: (171, 34) (171,)\n"
     ]
    }
   ],
   "source": [
    "from sklearn.model_selection import train_test_split\n",
    "X_train, X_test, y_train, y_test = train_test_split( X, y, test_size=0.3, random_state=4)\n",
    "print ('Train set:', X_train.shape,  y_train.shape)\n",
    "print ('Test set:', X_test.shape,  y_test.shape)"
   ]
  },
  {
   "cell_type": "code",
   "execution_count": 156,
   "metadata": {},
   "outputs": [],
   "source": [
    "from sklearn.linear_model import LogisticRegression\n",
    "from sklearn.metrics import confusion_matrix"
   ]
  },
  {
   "cell_type": "code",
   "execution_count": 157,
   "metadata": {},
   "outputs": [
    {
     "data": {
      "text/plain": [
       "LogisticRegression(C=0.01, class_weight=None, dual=False, fit_intercept=True,\n",
       "          intercept_scaling=1, max_iter=100, multi_class='warn',\n",
       "          n_jobs=None, penalty='l2', random_state=None, solver='liblinear',\n",
       "          tol=0.0001, verbose=0, warm_start=False)"
      ]
     },
     "execution_count": 157,
     "metadata": {},
     "output_type": "execute_result"
    }
   ],
   "source": [
    "LogR = LogisticRegression(C=0.01, solver='liblinear').fit(X_train,y_train)\n",
    "LogR"
   ]
  },
  {
   "cell_type": "code",
   "execution_count": 158,
   "metadata": {},
   "outputs": [
    {
     "data": {
      "text/plain": [
       "array([2, 2, 2, 2, 1, 1, 1, 1, 1, 1, 1, 2, 2, 2, 2, 2, 2, 2, 1, 2, 2, 2,\n",
       "       1, 1, 2, 2, 1, 1, 1, 2, 2, 2, 1, 2, 2, 2, 1, 1, 2, 1, 2, 1, 2, 2,\n",
       "       2, 2, 2, 2, 2, 1, 1, 1, 1, 2, 2, 2, 1, 2, 2, 1, 2, 2, 2, 1, 2, 2,\n",
       "       1, 1, 1, 1, 1, 2, 1, 2, 2, 2, 1, 2, 2, 1, 2, 1, 1, 1, 2, 2, 2, 2,\n",
       "       2, 2, 1, 2, 2, 2, 2, 1, 1, 2, 2, 1, 2, 1, 1, 2, 2, 1, 2, 1, 1, 1,\n",
       "       1, 2, 2, 2, 2, 1, 2, 1, 1, 2, 2, 2, 1, 1, 1, 2, 2, 1, 1, 1, 2, 1,\n",
       "       2, 1, 2, 2, 1, 2, 1, 1, 1, 1, 1, 2, 1, 1, 1, 1, 1, 1, 1, 1, 2, 2,\n",
       "       1, 1, 1, 2, 2, 1, 2, 2, 2, 2, 1, 2, 1, 2, 1, 2, 2])"
      ]
     },
     "execution_count": 158,
     "metadata": {},
     "output_type": "execute_result"
    }
   ],
   "source": [
    "yhat = LogR.predict(X_test)\n",
    "yhat"
   ]
  },
  {
   "cell_type": "code",
   "execution_count": 159,
   "metadata": {},
   "outputs": [
    {
     "data": {
      "text/plain": [
       "array([[0.24, 0.76],\n",
       "       [0.4 , 0.6 ],\n",
       "       [0.23, 0.77],\n",
       "       [0.23, 0.77],\n",
       "       [0.67, 0.33],\n",
       "       [0.8 , 0.2 ],\n",
       "       [0.7 , 0.3 ],\n",
       "       [0.69, 0.31],\n",
       "       [0.71, 0.29],\n",
       "       [0.68, 0.32],\n",
       "       [0.81, 0.19],\n",
       "       [0.23, 0.77],\n",
       "       [0.23, 0.77],\n",
       "       [0.24, 0.76],\n",
       "       [0.23, 0.77],\n",
       "       [0.24, 0.76],\n",
       "       [0.23, 0.77],\n",
       "       [0.21, 0.79],\n",
       "       [0.83, 0.17],\n",
       "       [0.22, 0.78],\n",
       "       [0.26, 0.74],\n",
       "       [0.23, 0.77],\n",
       "       [0.68, 0.32],\n",
       "       [0.76, 0.24],\n",
       "       [0.29, 0.71],\n",
       "       [0.23, 0.77],\n",
       "       [0.71, 0.29],\n",
       "       [0.7 , 0.3 ],\n",
       "       [0.76, 0.24],\n",
       "       [0.24, 0.76],\n",
       "       [0.24, 0.76],\n",
       "       [0.35, 0.65],\n",
       "       [0.68, 0.32],\n",
       "       [0.22, 0.78],\n",
       "       [0.37, 0.63],\n",
       "       [0.23, 0.77],\n",
       "       [0.71, 0.29],\n",
       "       [0.63, 0.37],\n",
       "       [0.23, 0.77],\n",
       "       [0.8 , 0.2 ],\n",
       "       [0.36, 0.64],\n",
       "       [0.76, 0.24],\n",
       "       [0.23, 0.77],\n",
       "       [0.36, 0.64],\n",
       "       [0.24, 0.76],\n",
       "       [0.19, 0.81],\n",
       "       [0.19, 0.81],\n",
       "       [0.24, 0.76],\n",
       "       [0.33, 0.67],\n",
       "       [0.66, 0.34],\n",
       "       [0.68, 0.32],\n",
       "       [0.68, 0.32],\n",
       "       [0.76, 0.24],\n",
       "       [0.35, 0.65],\n",
       "       [0.29, 0.71],\n",
       "       [0.26, 0.74],\n",
       "       [0.75, 0.25],\n",
       "       [0.24, 0.76],\n",
       "       [0.3 , 0.7 ],\n",
       "       [0.56, 0.44],\n",
       "       [0.34, 0.66],\n",
       "       [0.24, 0.76],\n",
       "       [0.35, 0.65],\n",
       "       [0.71, 0.29],\n",
       "       [0.2 , 0.8 ],\n",
       "       [0.25, 0.75],\n",
       "       [0.82, 0.18],\n",
       "       [0.75, 0.25],\n",
       "       [0.7 , 0.3 ],\n",
       "       [0.71, 0.29],\n",
       "       [0.7 , 0.3 ],\n",
       "       [0.23, 0.77],\n",
       "       [0.79, 0.21],\n",
       "       [0.29, 0.71],\n",
       "       [0.36, 0.64],\n",
       "       [0.23, 0.77],\n",
       "       [0.68, 0.32],\n",
       "       [0.3 , 0.7 ],\n",
       "       [0.19, 0.81],\n",
       "       [0.68, 0.32],\n",
       "       [0.25, 0.75],\n",
       "       [0.8 , 0.2 ],\n",
       "       [0.68, 0.32],\n",
       "       [0.79, 0.21],\n",
       "       [0.16, 0.84],\n",
       "       [0.25, 0.75],\n",
       "       [0.29, 0.71],\n",
       "       [0.24, 0.76],\n",
       "       [0.36, 0.64],\n",
       "       [0.18, 0.82],\n",
       "       [0.71, 0.29],\n",
       "       [0.23, 0.77],\n",
       "       [0.25, 0.75],\n",
       "       [0.35, 0.65],\n",
       "       [0.4 , 0.6 ],\n",
       "       [0.79, 0.21],\n",
       "       [0.81, 0.19],\n",
       "       [0.23, 0.77],\n",
       "       [0.24, 0.76],\n",
       "       [0.7 , 0.3 ],\n",
       "       [0.33, 0.67],\n",
       "       [0.71, 0.29],\n",
       "       [0.77, 0.23],\n",
       "       [0.29, 0.71],\n",
       "       [0.19, 0.81],\n",
       "       [0.74, 0.26],\n",
       "       [0.23, 0.77],\n",
       "       [0.69, 0.31],\n",
       "       [0.81, 0.19],\n",
       "       [0.79, 0.21],\n",
       "       [0.68, 0.32],\n",
       "       [0.33, 0.67],\n",
       "       [0.21, 0.79],\n",
       "       [0.35, 0.65],\n",
       "       [0.3 , 0.7 ],\n",
       "       [0.71, 0.29],\n",
       "       [0.25, 0.75],\n",
       "       [0.69, 0.31],\n",
       "       [0.68, 0.32],\n",
       "       [0.19, 0.81],\n",
       "       [0.29, 0.71],\n",
       "       [0.29, 0.71],\n",
       "       [0.8 , 0.2 ],\n",
       "       [0.86, 0.14],\n",
       "       [0.69, 0.31],\n",
       "       [0.23, 0.77],\n",
       "       [0.29, 0.71],\n",
       "       [0.8 , 0.2 ],\n",
       "       [0.69, 0.31],\n",
       "       [0.7 , 0.3 ],\n",
       "       [0.19, 0.81],\n",
       "       [0.71, 0.29],\n",
       "       [0.22, 0.78],\n",
       "       [0.69, 0.31],\n",
       "       [0.21, 0.79],\n",
       "       [0.24, 0.76],\n",
       "       [0.75, 0.25],\n",
       "       [0.24, 0.76],\n",
       "       [0.84, 0.16],\n",
       "       [0.8 , 0.2 ],\n",
       "       [0.76, 0.24],\n",
       "       [0.71, 0.29],\n",
       "       [0.75, 0.25],\n",
       "       [0.19, 0.81],\n",
       "       [0.76, 0.24],\n",
       "       [0.77, 0.23],\n",
       "       [0.71, 0.29],\n",
       "       [0.69, 0.31],\n",
       "       [0.81, 0.19],\n",
       "       [0.69, 0.31],\n",
       "       [0.77, 0.23],\n",
       "       [0.81, 0.19],\n",
       "       [0.23, 0.77],\n",
       "       [0.33, 0.67],\n",
       "       [0.81, 0.19],\n",
       "       [0.8 , 0.2 ],\n",
       "       [0.57, 0.43],\n",
       "       [0.23, 0.77],\n",
       "       [0.23, 0.77],\n",
       "       [0.69, 0.31],\n",
       "       [0.24, 0.76],\n",
       "       [0.33, 0.67],\n",
       "       [0.25, 0.75],\n",
       "       [0.23, 0.77],\n",
       "       [0.75, 0.25],\n",
       "       [0.25, 0.75],\n",
       "       [0.68, 0.32],\n",
       "       [0.34, 0.66],\n",
       "       [0.73, 0.27],\n",
       "       [0.35, 0.65],\n",
       "       [0.23, 0.77]])"
      ]
     },
     "execution_count": 159,
     "metadata": {},
     "output_type": "execute_result"
    }
   ],
   "source": [
    "yhat_prob = LogR.predict_proba(X_test)\n",
    "yhat_prob"
   ]
  },
  {
   "cell_type": "code",
   "execution_count": 160,
   "metadata": {},
   "outputs": [
    {
     "data": {
      "text/plain": [
       "1.0"
      ]
     },
     "execution_count": 160,
     "metadata": {},
     "output_type": "execute_result"
    }
   ],
   "source": [
    "from sklearn.metrics import jaccard_similarity_score\n",
    "jaccard_similarity_score(y_test, yhat)"
   ]
  },
  {
   "cell_type": "code",
   "execution_count": 161,
   "metadata": {},
   "outputs": [
    {
     "data": {
      "text/plain": [
       "0.3100151976231949"
      ]
     },
     "execution_count": 161,
     "metadata": {},
     "output_type": "execute_result"
    }
   ],
   "source": [
    "from sklearn.metrics import log_loss\n",
    "log_loss(y_test, yhat_prob)"
   ]
  },
  {
   "cell_type": "code",
   "execution_count": 162,
   "metadata": {},
   "outputs": [],
   "source": [
    "from sklearn.metrics import jaccard_similarity_score\n",
    "from sklearn.metrics import f1_score\n",
    "from sklearn.metrics import log_loss"
   ]
  },
  {
   "cell_type": "code",
   "execution_count": 169,
   "metadata": {},
   "outputs": [
    {
     "name": "stdout",
     "output_type": "stream",
     "text": [
      "Avg F1-Score: 0.94\n",
      "KNN Jaccard Score: 0.94\n"
     ]
    }
   ],
   "source": [
    "yhatKNN=neigh.predict(X)\n",
    "KNNJaccard = jaccard_similarity_score(y, yhatKNN)\n",
    "KNNF1 = f1_score(y, yhatKNN, average='weighted')\n",
    "print(\"Avg F1-Score: %.2f\" % KNNF1 )\n",
    "print(\"KNN Jaccard Score: %.2f\" % KNNJaccard)"
   ]
  },
  {
   "cell_type": "code",
   "execution_count": 170,
   "metadata": {},
   "outputs": [
    {
     "name": "stdout",
     "output_type": "stream",
     "text": [
      "Avg F1-Score: 1.00\n",
      "Decision Tree Jaccard Score: 1.00\n"
     ]
    }
   ],
   "source": [
    "yhatDEC = Tree.predict(X)\n",
    "DTJaccard = jaccard_similarity_score(y, yhatDEC)\n",
    "DTF1 = f1_score(y, yhatDEC, average='weighted')\n",
    "print(\"Avg F1-Score: %.2f\" % DTF1 )\n",
    "print(\"Decision Tree Jaccard Score: %.2f\" % DTJaccard)"
   ]
  },
  {
   "cell_type": "code",
   "execution_count": 171,
   "metadata": {},
   "outputs": [
    {
     "name": "stdout",
     "output_type": "stream",
     "text": [
      "Avg F1-Score: 0.98\n",
      "SVM Jaccard Score: 0.98\n"
     ]
    }
   ],
   "source": [
    "yhatSVM=clf.predict(X)\n",
    "SVMJaccard = jaccard_similarity_score(y, yhatSVM)\n",
    "SVMF1 = f1_score(y, yhatSVM, average='weighted')\n",
    "print(\"Avg F1-Score: %.2f\" % SVMF1)\n",
    "print(\"SVM Jaccard Score: %.2f\" % SVMJaccard)"
   ]
  },
  {
   "cell_type": "code",
   "execution_count": 172,
   "metadata": {},
   "outputs": [
    {
     "name": "stdout",
     "output_type": "stream",
     "text": [
      "Log Loss: : 0.30\n",
      "Avg F1-Score: 1.0000\n",
      "LOG Jaccard Score: 1.0000\n"
     ]
    }
   ],
   "source": [
    "yhatLOG = LogR.predict(X)\n",
    "yhatLOGproba = LogR.predict_proba(X)\n",
    "LogRJaccard = jaccard_similarity_score(y, yhatLOG)\n",
    "LogRF1 = f1_score(y, yhatLOG, average='weighted')\n",
    "Logloss = log_loss(y, yhatLOGproba)\n",
    "print(\"Log Loss: : %.2f\" % Logloss)\n",
    "print(\"Avg F1-Score: %.4f\" % LogRF1)\n",
    "print(\"LOG Jaccard Score: %.4f\" % LogRJaccard)"
   ]
  },
  {
   "cell_type": "markdown",
   "metadata": {},
   "source": [
    "| Algorithm          | Jaccard | F1-score | LogLoss |\n",
    "| ------------------ | ------- | -------- | ------- |\n",
    "| KNN                | 0.94       | 0.94        | NA      |\n",
    "| Decision Tree      | 1.00       | 1.00        | NA      |\n",
    "| SVM                | 0.98       | 0.98       | NA      |\n",
    "| LogisticRegression | 1.00       | 1.00        | 0.30       |"
   ]
  },
  {
   "cell_type": "code",
   "execution_count": null,
   "metadata": {},
   "outputs": [],
   "source": []
  }
 ],
 "metadata": {
  "kernelspec": {
   "display_name": "Python",
   "language": "python",
   "name": "conda-env-python-py"
  },
  "language_info": {
   "codemirror_mode": {
    "name": "ipython",
    "version": 3
   },
   "file_extension": ".py",
   "mimetype": "text/x-python",
   "name": "python",
   "nbconvert_exporter": "python",
   "pygments_lexer": "ipython3",
   "version": "3.6.11"
  }
 },
 "nbformat": 4,
 "nbformat_minor": 4
}
